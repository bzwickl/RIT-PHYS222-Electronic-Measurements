{
 "cells": [
  {
   "cell_type": "markdown",
   "metadata": {
    "slideshow": {
     "slide_type": "slide"
    }
   },
   "source": [
    "# PHYS 225\n",
    "## Intro to Computational Physics\n",
    "### 10-25-2019"
   ]
  },
  {
   "cell_type": "markdown",
   "metadata": {
    "slideshow": {
     "slide_type": "slide"
    }
   },
   "source": [
    "![Which is a best fit?](Week9C_best_fit_line.PNG)"
   ]
  },
  {
   "cell_type": "markdown",
   "metadata": {
    "slideshow": {
     "slide_type": "slide"
    }
   },
   "source": [
    "## In words, what is your criterion for choosing the \"best fit\" line?\n"
   ]
  },
  {
   "cell_type": "markdown",
   "metadata": {
    "slideshow": {
     "slide_type": "slide"
    }
   },
   "source": [
    "## In words, what is your criterion for choosing the \"best fit\" line?\n",
    "\n",
    "### Possible Answer: The line that is closest to the data points."
   ]
  },
  {
   "cell_type": "markdown",
   "metadata": {},
   "source": [
    "## Can you express your criterion as mathematics?\n",
    "\n",
    "Assume the data are given as a set of paired data points $(x_i, y_i)$.  \n",
    "\n",
    "The fit function is $y = f(x, a, b, ...)$ and $a, b,...$ are fit parameters."
   ]
  },
  {
   "cell_type": "markdown",
   "metadata": {
    "slideshow": {
     "slide_type": "slide"
    }
   },
   "source": [
    "## Can you express your criterion as mathematics?\n",
    "\n",
    "Assume the data are given as a set of paired data points $(x_i, y_i)$.  \n",
    "\n",
    "The fit function is $y = f(x, a, b, ...)$ and $a, b,...$ are fit parameters.\n",
    "\n",
    "### Possible Answers\n",
    "Choose fit parameters $a, b,...$ that minimize\n",
    " \n",
    "(a) $\\sum |y_i - f(x_i, a, b,...)|$\n",
    "\n",
    "(b) $\\sum (y_i - f(x_i, a, b,...))^2$\n"
   ]
  },
  {
   "cell_type": "markdown",
   "metadata": {
    "slideshow": {
     "slide_type": "slide"
    }
   },
   "source": [
    "![Best fit curve minimizing absolute value](PS9C_lecture_best_fit_abs.PNG)"
   ]
  },
  {
   "cell_type": "markdown",
   "metadata": {
    "slideshow": {
     "slide_type": "slide"
    }
   },
   "source": [
    "## Answer: D, All of the above\n",
    "    \n",
    "![Best fit curve minimizing absolute value](PS9C_lecture_best_fit_abs.PNG)\n"
   ]
  },
  {
   "cell_type": "markdown",
   "metadata": {},
   "source": [
    "![Best fit curve minimizing sum of squares](PS9C_lecture_best_fit_squares.PNG)"
   ]
  },
  {
   "cell_type": "markdown",
   "metadata": {},
   "source": [
    "## Answer: A\n",
    "### The sum of squares penalizes larger deviations more due to sum *of squares*\n",
    "![Best fit curve minimizing sum of squares](PS9C_lecture_best_fit_squares.PNG)"
   ]
  },
  {
   "cell_type": "markdown",
   "metadata": {},
   "source": [
    "## A note on optimization problems\n",
    "As with \"best fit curves\" many physics problems and other everyday problems are optimization problems where some quantity is either minimized or maximiized.\n",
    "\n",
    "With your neighbor, brainstorm a list of optimization problems relevant to \n",
    "1. physics, astronomy, or science generally\n",
    "2. everyday life, business, etc"
   ]
  },
  {
   "cell_type": "code",
   "execution_count": 11,
   "metadata": {
    "slideshow": {
     "slide_type": "slide"
    }
   },
   "outputs": [],
   "source": [
    "import numpy as np\n",
    "import matplotlib.pyplot as plt\n",
    "\n",
    "# import package that includes optimization\n",
    "from scipy.optimize import curve_fit"
   ]
  },
  {
   "cell_type": "markdown",
   "metadata": {
    "slideshow": {
     "slide_type": "fragment"
    }
   },
   "source": [
    "Let's check out the [official documentation](https://docs.scipy.org/doc/scipy/reference/optimize.html) for scipy.optimize."
   ]
  },
  {
   "cell_type": "markdown",
   "metadata": {
    "slideshow": {
     "slide_type": "slide"
    }
   },
   "source": [
    "## Steps for using curve_fit\n",
    "1. You have a set of data $(x_i,y_i)$ containing the \n",
    "    * independent (a.k.a \"manipulated\") variable, usually denoted ${x_i}$\n",
    "    * dependent (a.k.a. \"responding\") variable, usually denoted ${y_i}$\n",
    "1. Define the \"fit function\" $y = f(x,a,b,...)$\n",
    "1. Estimate some rough initial guesses for the fit parameters $a,b,...$\n",
    "1. Throw it all into curve_fit"
   ]
  },
  {
   "cell_type": "code",
   "execution_count": 12,
   "metadata": {
    "slideshow": {
     "slide_type": "slide"
    }
   },
   "outputs": [],
   "source": [
    "# load the data\n",
    "data = np.loadtxt(\"my_pressure_data.csv\", skiprows=1, delimiter=\",\")"
   ]
  },
  {
   "cell_type": "code",
   "execution_count": 13,
   "metadata": {},
   "outputs": [
    {
     "data": {
      "text/plain": [
       "array([[0.00000000e+00, 9.87152832e+02],\n",
       "       [3.84521490e-02, 9.87152832e+02]])"
      ]
     },
     "execution_count": 13,
     "metadata": {},
     "output_type": "execute_result"
    }
   ],
   "source": [
    "data[0:2]"
   ]
  },
  {
   "cell_type": "code",
   "execution_count": 14,
   "metadata": {
    "slideshow": {
     "slide_type": "slide"
    }
   },
   "outputs": [],
   "source": [
    "# extract time and pressure arrays\n",
    "t = data[:,0]\n",
    "p = data[:,1]\n"
   ]
  },
  {
   "cell_type": "code",
   "execution_count": 15,
   "metadata": {
    "slideshow": {
     "slide_type": "fragment"
    }
   },
   "outputs": [],
   "source": [
    "# define the pressure to height conversion function\n",
    "def p_to_h(pressure) :\n",
    "    \"\"\" Convert pressure in pascals to height in meters \"\"\"\n",
    "    height = (1 - (pressure/101325)**(1/5.25588))/2.25577e-5\n",
    "    return height"
   ]
  },
  {
   "cell_type": "code",
   "execution_count": 3,
   "metadata": {
    "slideshow": {
     "slide_type": "fragment"
    }
   },
   "outputs": [],
   "source": [
    "# define the y heights\n"
   ]
  },
  {
   "cell_type": "code",
   "execution_count": 17,
   "metadata": {
    "slideshow": {
     "slide_type": "slide"
    }
   },
   "outputs": [
    {
     "data": {
      "text/plain": [
       "Text(0, 0.5, 'Height above sea level (m)')"
      ]
     },
     "execution_count": 17,
     "metadata": {},
     "output_type": "execute_result"
    },
    {
     "data": {
      "image/png": "[encoded data removed]",
      "text/plain": [
       "<Figure size 432x288 with 1 Axes>"
      ]
     },
     "metadata": {
      "needs_background": "light"
     },
     "output_type": "display_data"
    }
   ],
   "source": [
    "# create a plot\n",
    "y = p_to_h(100*p) # convert hectopascals to meters\n",
    "plt.plot(t,y)\n",
    "plt.xlabel(\"Time (s)\")\n",
    "plt.ylabel(\"Height above sea level (m)\")"
   ]
  },
  {
   "cell_type": "markdown",
   "metadata": {
    "slideshow": {
     "slide_type": "slide"
    }
   },
   "source": [
    "## Pick the subset of data to fit"
   ]
  },
  {
   "cell_type": "code",
   "execution_count": 20,
   "metadata": {
    "slideshow": {
     "slide_type": "slide"
    }
   },
   "outputs": [
    {
     "data": {
      "text/plain": [
       "[<matplotlib.lines.Line2D at 0x7f140eb7a4a8>]"
      ]
     },
     "execution_count": 20,
     "metadata": {},
     "output_type": "execute_result"
    },
    {
     "data": {
      "image/png": "[encoded data removed]",
      "text/plain": [
       "<Figure size 432x288 with 1 Axes>"
      ]
     },
     "metadata": {
      "needs_background": "light"
     },
     "output_type": "display_data"
    }
   ],
   "source": [
    "condition = np.logical_and( t < 33, t > 15 )\n",
    "tdown = t[condition]\n",
    "ydown = y[condition]\n",
    "plt.plot(tdown,ydown)"
   ]
  },
  {
   "cell_type": "markdown",
   "metadata": {
    "slideshow": {
     "slide_type": "slide"
    }
   },
   "source": [
    "## Define the fit function `const_vel(t, y0, v)`"
   ]
  },
  {
   "cell_type": "code",
   "execution_count": 21,
   "metadata": {
    "slideshow": {
     "slide_type": "fragment"
    }
   },
   "outputs": [],
   "source": [
    "def const_vel(t, y0, v) :\n",
    "    \"\"\" returns y as a function of time, initial height, and velocity\"\"\"\n",
    "    return y0 + v*t"
   ]
  },
  {
   "cell_type": "markdown",
   "metadata": {
    "slideshow": {
     "slide_type": "slide"
    }
   },
   "source": [
    "## Determine initial fit parameter guesses\n",
    "\n",
    "Get a rough idea from the graph. Often 1 significant digit is enough."
   ]
  },
  {
   "cell_type": "code",
   "execution_count": 22,
   "metadata": {
    "slideshow": {
     "slide_type": "fragment"
    }
   },
   "outputs": [],
   "source": [
    "y0guess = 220\n",
    "vguess = -1\n"
   ]
  },
  {
   "cell_type": "markdown",
   "metadata": {
    "slideshow": {
     "slide_type": "slide"
    }
   },
   "source": [
    "## Plug it all into `curve_fit()`"
   ]
  },
  {
   "cell_type": "code",
   "execution_count": 23,
   "metadata": {
    "slideshow": {
     "slide_type": "fragment"
    }
   },
   "outputs": [
    {
     "data": {
      "text/plain": [
       "(array([224.89542223,  -0.43604566]),\n",
       " array([[ 3.75426534e-04, -1.49350980e-05],\n",
       "        [-1.49350980e-05,  6.21949163e-07]]))"
      ]
     },
     "execution_count": 23,
     "metadata": {},
     "output_type": "execute_result"
    }
   ],
   "source": [
    "# apply curve_fit\n",
    "curve_fit(f=const_vel, xdata=tdown, ydata=ydown, p0=[y0guess, vguess])"
   ]
  },
  {
   "cell_type": "code",
   "execution_count": 24,
   "metadata": {
    "slideshow": {
     "slide_type": "slide"
    }
   },
   "outputs": [],
   "source": [
    "# unpack the best fit and covariance parameters\n",
    "pbest, pcov = curve_fit(f=const_vel, xdata=tdown, ydata=ydown, p0=[y0guess, vguess])"
   ]
  },
  {
   "cell_type": "code",
   "execution_count": 27,
   "metadata": {
    "slideshow": {
     "slide_type": "fragment"
    }
   },
   "outputs": [
    {
     "name": "stdout",
     "output_type": "stream",
     "text": [
      "224.89542223125898\n",
      "-0.4360456617473272\n"
     ]
    }
   ],
   "source": [
    "# extract the best fit parameters\n",
    "y0best, vbest = pbest\n",
    "print(y0best)\n",
    "print(vbest)"
   ]
  },
  {
   "cell_type": "markdown",
   "metadata": {
    "slideshow": {
     "slide_type": "slide"
    }
   },
   "source": [
    "## Make a plot of data + fit"
   ]
  },
  {
   "cell_type": "code",
   "execution_count": 31,
   "metadata": {
    "slideshow": {
     "slide_type": "slide"
    }
   },
   "outputs": [
    {
     "data": {
      "text/plain": [
       "[<matplotlib.lines.Line2D at 0x7f140e671c88>]"
      ]
     },
     "execution_count": 31,
     "metadata": {},
     "output_type": "execute_result"
    },
    {
     "data": {
      "image/png": "[encoded data removed]",
      "text/plain": [
       "<Figure size 432x288 with 1 Axes>"
      ]
     },
     "metadata": {
      "needs_background": "light"
     },
     "output_type": "display_data"
    }
   ],
   "source": [
    "# make a plot of the data + fit\n",
    "yfit = const_vel(tdown, y0best, vbest)\n",
    "\n",
    "plt.plot(tdown, ydown, 'ro', alpha=0.05)  # original data\n",
    "plt.plot(tdown, yfit, 'k')  # fit curve"
   ]
  },
  {
   "cell_type": "markdown",
   "metadata": {
    "slideshow": {
     "slide_type": "slide"
    }
   },
   "source": [
    "## Plot the residuals\n",
    "The residuals are the difference between the data and the best fit curve."
   ]
  },
  {
   "cell_type": "code",
   "execution_count": 10,
   "metadata": {
    "slideshow": {
     "slide_type": "slide"
    }
   },
   "outputs": [],
   "source": [
    "# calculate and plot residuals"
   ]
  },
  {
   "cell_type": "code",
   "execution_count": null,
   "metadata": {},
   "outputs": [],
   "source": []
  }
 ],
 "metadata": {
  "celltoolbar": "Slideshow",
  "kernelspec": {
   "display_name": "Python 3",
   "language": "python",
   "name": "python3"
  },
  "language_info": {
   "codemirror_mode": {
    "name": "ipython",
    "version": 3
   },
   "file_extension": ".py",
   "mimetype": "text/x-python",
   "name": "python",
   "nbconvert_exporter": "python",
   "pygments_lexer": "ipython3",
   "version": "3.6.7"
  }
 },
 "nbformat": 4,
 "nbformat_minor": 2
}
