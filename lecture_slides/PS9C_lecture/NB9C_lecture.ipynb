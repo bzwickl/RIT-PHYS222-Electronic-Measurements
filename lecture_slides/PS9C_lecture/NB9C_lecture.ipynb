{
 "cells": [
  {
   "cell_type": "markdown",
   "metadata": {
    "slideshow": {
     "slide_type": "slide"
    }
   },
   "source": [
    "# PHYS 225\n",
    "## Intro to Computational Physics\n",
    "### 10-25-2019"
   ]
  },
  {
   "cell_type": "markdown",
   "metadata": {
    "slideshow": {
     "slide_type": "slide"
    }
   },
   "source": [
    "![Which is a best fit?](Week9C_best_fit_line.PNG)"
   ]
  },
  {
   "cell_type": "markdown",
   "metadata": {
    "slideshow": {
     "slide_type": "slide"
    }
   },
   "source": [
    "## In words, what is your criterion for choosing the \"best fit\" line?\n"
   ]
  },
  {
   "cell_type": "markdown",
   "metadata": {
    "slideshow": {
     "slide_type": "slide"
    }
   },
   "source": [
    "## In words, what is your criterion for choosing the \"best fit\" line?\n",
    "\n",
    "### Possible Answer: The line that is closest to the data points."
   ]
  },
  {
   "cell_type": "markdown",
   "metadata": {},
   "source": [
    "## Can you express your criterion as mathematics?\n",
    "\n",
    "Assume the data are given as a set of paired data points $(x_i, y_i)$.  \n",
    "\n",
    "The fit function is $y = f(x, a, b, ...)$ and $a, b,...$ are fit parameters."
   ]
  },
  {
   "cell_type": "markdown",
   "metadata": {
    "slideshow": {
     "slide_type": "slide"
    }
   },
   "source": [
    "## Can you express your criterion as mathematics?\n",
    "\n",
    "Assume the data are given as a set of paired data points $(x_i, y_i)$.  \n",
    "\n",
    "The fit function is $y = f(x, a, b, ...)$ and $a, b,...$ are fit parameters.\n",
    "\n",
    "### Possible Answers\n",
    "Choose fit parameters $a, b,...$ that minimize\n",
    " \n",
    "(a) $\\sum |y_i - f(x_i, a, b,...)|$\n",
    "\n",
    "(b) $\\sum (y_i - f(x_i, a, b,...))^2$\n"
   ]
  },
  {
   "cell_type": "markdown",
   "metadata": {
    "slideshow": {
     "slide_type": "slide"
    }
   },
   "source": [
    "![Best fit curve minimizing absolute value](PS9C_lecture_best_fit_abs.PNG)"
   ]
  },
  {
   "cell_type": "markdown",
   "metadata": {
    "slideshow": {
     "slide_type": "slide"
    }
   },
   "source": [
    "## Answer: D, All of the above\n",
    "    \n",
    "![Best fit curve minimizing absolute value](PS9C_lecture_best_fit_abs.PNG)\n"
   ]
  },
  {
   "cell_type": "markdown",
   "metadata": {},
   "source": [
    "![Best fit curve minimizing sum of squares](PS9C_lecture_best_fit_squares.PNG)"
   ]
  },
  {
   "cell_type": "markdown",
   "metadata": {},
   "source": [
    "## Answer: A\n",
    "### The sum of squares penalizes larger deviations more due to sum *of squares*\n",
    "![Best fit curve minimizing sum of squares](PS9C_lecture_best_fit_squares.PNG)"
   ]
  },
  {
   "cell_type": "markdown",
   "metadata": {},
   "source": [
    "## A note on optimization problems\n",
    "As with \"best fit curves\" many physics problems and other everyday problems are optimization problems where some quantity is either minimized or maximiized.\n",
    "\n",
    "With your neighbor, brainstorm a list of optimization problems relevant to \n",
    "1. physics, astronomy, or science generally\n",
    "2. everyday life, business, etc"
   ]
  },
  {
   "cell_type": "code",
   "execution_count": 1,
   "metadata": {
    "slideshow": {
     "slide_type": "slide"
    }
   },
   "outputs": [],
   "source": [
    "import numpy as np\n",
    "import matplotlib.pyplot as plt\n",
    "\n",
    "# import package that includes optimization\n",
    "from scipy.optimize import curve_fit"
   ]
  },
  {
   "cell_type": "markdown",
   "metadata": {
    "slideshow": {
     "slide_type": "fragment"
    }
   },
   "source": [
    "Let's check out the [official documentation](https://docs.scipy.org/doc/scipy/reference/optimize.html) for scipy.optimize."
   ]
  },
  {
   "cell_type": "markdown",
   "metadata": {
    "slideshow": {
     "slide_type": "slide"
    }
   },
   "source": [
    "## Steps for using curve_fit\n",
    "1. You have a set of data $(x_i,y_i)$ containing the \n",
    "    * independent (a.k.a \"manipulated\") variable, usually denoted ${x_i}$\n",
    "    * dependent (a.k.a. \"responding\") variable, usually denoted ${y_i}$\n",
    "1. Define the \"fit function\" $y = f(x,a,b,...)$\n",
    "1. Estimate some rough initial guesses for the fit parameters $a,b,...$\n",
    "1. Throw it all into curve_fit"
   ]
  },
  {
   "cell_type": "code",
   "execution_count": 9,
   "metadata": {
    "slideshow": {
     "slide_type": "slide"
    }
   },
   "outputs": [
    {
     "data": {
      "text/plain": [
       "array([[0.00000000e+00, 9.87152832e+02],\n",
       "       [3.84521490e-02, 9.87152832e+02],\n",
       "       [7.69042970e-02, 9.87152832e+02],\n",
       "       ...,\n",
       "       [1.55231314e+02, 9.87136291e+02],\n",
       "       [1.55269797e+02, 9.87136291e+02],\n",
       "       [1.55308218e+02, 9.87142090e+02]])"
      ]
     },
     "execution_count": 9,
     "metadata": {},
     "output_type": "execute_result"
    }
   ],
   "source": [
    "# load the data\n",
    "data = np.loadtxt(\"my_pressure_data.csv\", delimiter=\",\", skiprows = 1)\n",
    "data"
   ]
  },
  {
   "cell_type": "code",
   "execution_count": 46,
   "metadata": {
    "slideshow": {
     "slide_type": "slide"
    }
   },
   "outputs": [],
   "source": [
    "# extract time and pressure arrays\n",
    "t = data[:,0]  # time in seconds\n",
    "p = data[:,1]  # pressure in hectopascals"
   ]
  },
  {
   "cell_type": "code",
   "execution_count": 47,
   "metadata": {
    "slideshow": {
     "slide_type": "fragment"
    }
   },
   "outputs": [],
   "source": [
    "# define the pressure to height conversion function\n",
    "def p_to_h(pressure) :\n",
    "    \"\"\" Convert pressure in pascals to height in meters \"\"\"\n",
    "    height = (1 - (pressure/101325)**(1/5.25588))/2.25577e-5\n",
    "    return height"
   ]
  },
  {
   "cell_type": "code",
   "execution_count": 48,
   "metadata": {
    "slideshow": {
     "slide_type": "fragment"
    }
   },
   "outputs": [],
   "source": [
    "# define the y heights\n",
    "y = p_to_h(100*p)"
   ]
  },
  {
   "cell_type": "code",
   "execution_count": 49,
   "metadata": {
    "slideshow": {
     "slide_type": "slide"
    }
   },
   "outputs": [
    {
     "data": {
      "text/plain": [
       "Text(37, 210, 'Gosnell A level')"
      ]
     },
     "execution_count": 49,
     "metadata": {},
     "output_type": "execute_result"
    },
    {
     "data": {
      "image/png": "[encoded data removed]",
      "text/plain": [
       "<Figure size 432x288 with 1 Axes>"
      ]
     },
     "metadata": {
      "needs_background": "light"
     },
     "output_type": "display_data"
    }
   ],
   "source": [
    "# create a plot\n",
    "plt.plot(t,y)\n",
    "plt.ylabel(\"Height above sea level (m)\")\n",
    "plt.xlabel(\"Time (s)\")\n",
    "plt.annotate(s=\"Gosnell 3rd floor\", xy = (15,219.50), xytext=(30, 219.5),\n",
    "            arrowprops=dict(arrowstyle='-'))\n",
    "plt.annotate(s=\"Gosnell A level\", xy = (37,210))"
   ]
  },
  {
   "cell_type": "markdown",
   "metadata": {
    "slideshow": {
     "slide_type": "slide"
    }
   },
   "source": [
    "## Pick the subset of data to fit"
   ]
  },
  {
   "cell_type": "code",
   "execution_count": 26,
   "metadata": {
    "slideshow": {
     "slide_type": "slide"
    }
   },
   "outputs": [
    {
     "data": {
      "text/plain": [
       "Text(0.5, 0, 'Time (s)')"
      ]
     },
     "execution_count": 26,
     "metadata": {},
     "output_type": "execute_result"
    },
    {
     "data": {
      "image/png": "[encoded data removed]",
      "text/plain": [
       "<Figure size 432x288 with 1 Axes>"
      ]
     },
     "metadata": {
      "needs_background": "light"
     },
     "output_type": "display_data"
    }
   ],
   "source": [
    "condition = np.logical_and(t>13, t<32)\n",
    "tdown = t[condition]\n",
    "ydown = y[condition]\n",
    "plt.plot(tdown, ydown)\n",
    "plt.ylabel(\"Height above sea level (m)\")\n",
    "plt.xlabel(\"Time (s)\")"
   ]
  },
  {
   "cell_type": "markdown",
   "metadata": {
    "slideshow": {
     "slide_type": "slide"
    }
   },
   "source": [
    "## Define the fit function"
   ]
  },
  {
   "cell_type": "code",
   "execution_count": 27,
   "metadata": {
    "slideshow": {
     "slide_type": "fragment"
    }
   },
   "outputs": [],
   "source": [
    "def const_vel(t,y0, v) :\n",
    "    \"\"\" \n",
    "    Constant velocity model \n",
    "    Inputs \n",
    "    t - time (s), \n",
    "    y0 - initial position (m) \n",
    "    v - initial velocity (m/s)\n",
    "    returns y (m) at a particular time\n",
    "    \"\"\"\n",
    "    y = y0 + v*t\n",
    "    return y"
   ]
  },
  {
   "cell_type": "markdown",
   "metadata": {
    "slideshow": {
     "slide_type": "slide"
    }
   },
   "source": [
    "## Determine initial fit parameter guesses\n",
    "\n",
    "Get a rough idea from the graph. Often 1 significant digit is enough."
   ]
  },
  {
   "cell_type": "code",
   "execution_count": 28,
   "metadata": {
    "slideshow": {
     "slide_type": "fragment"
    }
   },
   "outputs": [],
   "source": [
    "y0guess = 220\n",
    "vguess = -0.5"
   ]
  },
  {
   "cell_type": "markdown",
   "metadata": {
    "slideshow": {
     "slide_type": "slide"
    }
   },
   "source": [
    "## Plug it all into `curve_fit()`"
   ]
  },
  {
   "cell_type": "code",
   "execution_count": 54,
   "metadata": {
    "slideshow": {
     "slide_type": "fragment"
    }
   },
   "outputs": [
    {
     "data": {
      "text/plain": [
       "(array([224.82598516,  -0.43250932]),\n",
       " array([[ 1.86899916e-04, -7.83670133e-06],\n",
       "        [-7.83670133e-06,  3.48085305e-07]]))"
      ]
     },
     "execution_count": 54,
     "metadata": {},
     "output_type": "execute_result"
    }
   ],
   "source": [
    "# apply curve_fit\n",
    "curve_fit(f=const_vel, xdata = tdown, \\\n",
    "         ydata = ydown, p0 = [y0guess, vguess])"
   ]
  },
  {
   "cell_type": "code",
   "execution_count": 53,
   "metadata": {
    "slideshow": {
     "slide_type": "slide"
    }
   },
   "outputs": [
    {
     "name": "stdout",
     "output_type": "stream",
     "text": [
      "[224.82598516  -0.43250932]\n"
     ]
    }
   ],
   "source": [
    "# unpack the best fit and covariance parameters\n",
    "pbest, pcov = curve_fit(f=const_vel, xdata = tdown, \\\n",
    "         ydata = ydown, p0 = [y0guess, vguess])\n",
    "\n",
    "print(pbest)"
   ]
  },
  {
   "cell_type": "code",
   "execution_count": 32,
   "metadata": {
    "slideshow": {
     "slide_type": "fragment"
    }
   },
   "outputs": [],
   "source": [
    "# extract the best fit parameters\n",
    "y0best = pbest[0]\n",
    "vbest = pbest[1]"
   ]
  },
  {
   "cell_type": "markdown",
   "metadata": {
    "slideshow": {
     "slide_type": "slide"
    }
   },
   "source": [
    "## Make a plot of data + fit"
   ]
  },
  {
   "cell_type": "code",
   "execution_count": 52,
   "metadata": {
    "slideshow": {
     "slide_type": "slide"
    }
   },
   "outputs": [
    {
     "data": {
      "text/plain": [
       "Text(0, 0.5, 'Elevator height above sea level (m)')"
      ]
     },
     "execution_count": 52,
     "metadata": {},
     "output_type": "execute_result"
    },
    {
     "data": {
      "image/png": "[encoded data removed]",
      "text/plain": [
       "<Figure size 432x288 with 1 Axes>"
      ]
     },
     "metadata": {
      "needs_background": "light"
     },
     "output_type": "display_data"
    }
   ],
   "source": [
    "# make a plot of the data + fit\n",
    "plt.plot(tdown, ydown, '.r', alpha=0.2)\n",
    "\n",
    "yfit = const_vel(tdown, y0best, vbest)\n",
    "plt.plot(tdown, yfit, 'k')\n",
    "plt.xlabel(\"Time (s)\")\n",
    "plt.ylabel(\"Elevator height above sea level (m)\")"
   ]
  },
  {
   "cell_type": "markdown",
   "metadata": {
    "slideshow": {
     "slide_type": "slide"
    }
   },
   "source": [
    "## Plot the residuals\n",
    "The residuals are the difference between the data and the best fit curve."
   ]
  },
  {
   "cell_type": "code",
   "execution_count": 51,
   "metadata": {
    "slideshow": {
     "slide_type": "slide"
    }
   },
   "outputs": [
    {
     "data": {
      "text/plain": [
       "Text(0, 0.5, 'Residuals (m)')"
      ]
     },
     "execution_count": 51,
     "metadata": {},
     "output_type": "execute_result"
    },
    {
     "data": {
      "image/png": "[encoded data removed]",
      "text/plain": [
       "<Figure size 432x288 with 1 Axes>"
      ]
     },
     "metadata": {
      "needs_background": "light"
     },
     "output_type": "display_data"
    }
   ],
   "source": [
    "yfit = const_vel(tdown, y0best, vbest)\n",
    "residuals = ydown - yfit\n",
    "\n",
    "plt.plot(tdown, residuals)\n",
    "plt.xlabel(\"Time (s)\")\n",
    "plt.ylabel(\"Residuals (m)\")"
   ]
  },
  {
   "cell_type": "code",
   "execution_count": null,
   "metadata": {},
   "outputs": [],
   "source": []
  }
 ],
 "metadata": {
  "celltoolbar": "Slideshow",
  "kernelspec": {
   "display_name": "Python 3",
   "language": "python",
   "name": "python3"
  },
  "language_info": {
   "codemirror_mode": {
    "name": "ipython",
    "version": 3
   },
   "file_extension": ".py",
   "mimetype": "text/x-python",
   "name": "python",
   "nbconvert_exporter": "python",
   "pygments_lexer": "ipython3",
   "version": "3.6.7"
  }
 },
 "nbformat": 4,
 "nbformat_minor": 2
}
