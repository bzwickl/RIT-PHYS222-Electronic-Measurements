{
 "cells": [
  {
   "cell_type": "markdown",
   "metadata": {
    "slideshow": {
     "slide_type": "slide"
    }
   },
   "source": [
    "# PHYS 225\n",
    "## Intro to Computational Physics\n",
    "### 11-01-2019"
   ]
  },
  {
   "cell_type": "markdown",
   "metadata": {
    "slideshow": {
     "slide_type": "slide"
    }
   },
   "source": [
    "## Outline\n",
    "* Final Project Proposal Phase 3\n",
    "* Learning to use the Scipy Library\n",
    "* Keeping your final project work in a Jupyter Notebook."
   ]
  },
  {
   "cell_type": "markdown",
   "metadata": {
    "slideshow": {
     "slide_type": "slide"
    }
   },
   "source": [
    "## Final Project Phase 3\n",
    "Before submitting, make sure you can answer these questions.\n",
    "1. Do I have a clear sense of my overall project goal?\n",
    "1. Do I have a clear plan for what subgoals will be completed next week?\n",
    "1. Does each lab partner have a clear focus and responsibility so you are equally engaged on complementary pieces of the project?\n"
   ]
  },
  {
   "cell_type": "markdown",
   "metadata": {
    "slideshow": {
     "slide_type": "slide"
    }
   },
   "source": [
    "## Notes on Using JupyterHub for the final Project\n",
    "1. I have created a `Final_Project` assignment where you should save all your work (for now)\n",
    "1. I'm working with ITS to create shared directories on the JupyterHub for each team. \n",
    "    * Goal is to accomplish shared directories by 11/8. \n",
    "    * For now use Google Drive to share files\n",
    "1. **Each lab partner should keep their own Jupyter Notebook** which shows the stuff they are leading in the collaboration. Sometimes you may share content, which is fine, especially when integrating two pieces of the project. "
   ]
  },
  {
   "cell_type": "markdown",
   "metadata": {
    "slideshow": {
     "slide_type": "slide"
    }
   },
   "source": [
    "## Learning to use the Scipy Library\n",
    "\n",
    "### Example 1: Integration\n",
    "Documentation for [scipy.integrate](https://docs.scipy.org/doc/scipy/reference/integrate.html).\n",
    "\n",
    "1. Integrate a function.\n",
    "1. Integrate a data set.\n"
   ]
  },
  {
   "cell_type": "code",
   "execution_count": 54,
   "metadata": {
    "slideshow": {
     "slide_type": "slide"
    }
   },
   "outputs": [],
   "source": [
    "import numpy as np\n",
    "import matplotlib.pyplot as plt"
   ]
  },
  {
   "cell_type": "markdown",
   "metadata": {
    "slideshow": {
     "slide_type": "slide"
    }
   },
   "source": [
    "### Goal: Do this integral\n",
    "$$\\int_{-1}^{1}\\sqrt{1-x^2}dx$$\n",
    "### Which integration function in `scipy.optimize` should I pick?"
   ]
  },
  {
   "cell_type": "code",
   "execution_count": 1,
   "metadata": {
    "slideshow": {
     "slide_type": "slide"
    }
   },
   "outputs": [],
   "source": [
    "# import the integration function from scipy.optimize"
   ]
  },
  {
   "cell_type": "code",
   "execution_count": 56,
   "metadata": {
    "slideshow": {
     "slide_type": "fragment"
    }
   },
   "outputs": [],
   "source": [
    "# define the function that represents the top half of the circle\n"
   ]
  },
  {
   "cell_type": "code",
   "execution_count": 57,
   "metadata": {
    "slideshow": {
     "slide_type": "fragment"
    }
   },
   "outputs": [
    {
     "name": "stdout",
     "output_type": "stream",
     "text": [
      "(1.5707963267948983, 1.0002354500215915e-09)\n"
     ]
    }
   ],
   "source": [
    "# call the quad() function\n"
   ]
  },
  {
   "cell_type": "markdown",
   "metadata": {
    "slideshow": {
     "slide_type": "slide"
    }
   },
   "source": [
    "#### What are the two values that are returned? \n",
    "Examine the documentation."
   ]
  },
  {
   "cell_type": "code",
   "execution_count": 4,
   "metadata": {
    "slideshow": {
     "slide_type": "fragment"
    }
   },
   "outputs": [],
   "source": [
    "# print the output\n"
   ]
  },
  {
   "cell_type": "markdown",
   "metadata": {
    "slideshow": {
     "slide_type": "slide"
    }
   },
   "source": [
    "#### How close to $\\pi/2$ is the result?"
   ]
  },
  {
   "cell_type": "code",
   "execution_count": 3,
   "metadata": {
    "slideshow": {
     "slide_type": "fragment"
    }
   },
   "outputs": [],
   "source": [
    "# Calculate the difference here"
   ]
  },
  {
   "cell_type": "markdown",
   "metadata": {
    "slideshow": {
     "slide_type": "slide"
    }
   },
   "source": [
    "### Let's copy the example from the documentation for `quad`"
   ]
  },
  {
   "cell_type": "code",
   "execution_count": null,
   "metadata": {
    "slideshow": {
     "slide_type": "fragment"
    }
   },
   "outputs": [],
   "source": []
  },
  {
   "cell_type": "markdown",
   "metadata": {
    "slideshow": {
     "slide_type": "slide"
    }
   },
   "source": [
    "### New technique: lambda functions\n",
    "\n",
    "Look at this [webpage on lambda functions](https://www.afternerd.com/blog/python-lambdas/) for more details.\n",
    "\n",
    "* Lambda functions are \"anonymous\" in the sense they can be defined without giving them a name.\n",
    "* They can be used a inputs to another function. "
   ]
  },
  {
   "cell_type": "code",
   "execution_count": 12,
   "metadata": {
    "slideshow": {
     "slide_type": "slide"
    }
   },
   "outputs": [],
   "source": [
    "# create a lambda function that squares the input, name it \"square\"\n"
   ]
  },
  {
   "cell_type": "code",
   "execution_count": 2,
   "metadata": {
    "slideshow": {
     "slide_type": "fragment"
    }
   },
   "outputs": [],
   "source": [
    "# call the square() function"
   ]
  },
  {
   "cell_type": "markdown",
   "metadata": {
    "slideshow": {
     "slide_type": "slide"
    }
   },
   "source": [
    "### Use a double integral to get area of circle\n",
    "\n",
    "**Get out a piece of paper and write out a double integral to calculate the area of a circle using**\n",
    "1. Rectangular coordinates\n",
    "1. Polar coordinates\n",
    "\n",
    "### What  `scipy.integrate` function should be used to do the double integral?"
   ]
  },
  {
   "cell_type": "markdown",
   "metadata": {
    "slideshow": {
     "slide_type": "slide"
    }
   },
   "source": [
    "### Start with example from documentation on `dblquad()`"
   ]
  },
  {
   "cell_type": "code",
   "execution_count": 5,
   "metadata": {
    "slideshow": {
     "slide_type": "skip"
    }
   },
   "outputs": [],
   "source": [
    "# Start with example copied from documentation on dblquad\n"
   ]
  },
  {
   "cell_type": "markdown",
   "metadata": {
    "slideshow": {
     "slide_type": "slide"
    }
   },
   "source": [
    "### Area of circle in rectangular coordinates\n",
    "$$ \\int_{-1}^1 \\int_{-\\sqrt{1-x^2}}^{\\sqrt{1-x^2}} dy dx $$"
   ]
  },
  {
   "cell_type": "code",
   "execution_count": 6,
   "metadata": {
    "slideshow": {
     "slide_type": "fragment"
    }
   },
   "outputs": [],
   "source": [
    "# set up the functions for f(y,x), upper limit and lower limit\n"
   ]
  },
  {
   "cell_type": "code",
   "execution_count": 7,
   "metadata": {
    "slideshow": {
     "slide_type": "slide"
    }
   },
   "outputs": [],
   "source": [
    "# how different is the integral from \\pi = 3.14... ?\n"
   ]
  },
  {
   "cell_type": "markdown",
   "metadata": {
    "slideshow": {
     "slide_type": "slide"
    }
   },
   "source": [
    "### Polar coordinates\n",
    "$$ \\int_{0}^{2\\pi}\\int_{0}^1 r dr d\\theta$$"
   ]
  },
  {
   "cell_type": "code",
   "execution_count": 8,
   "metadata": {
    "slideshow": {
     "slide_type": "fragment"
    }
   },
   "outputs": [],
   "source": [
    "# set up the functions for f(y,x), upper limit and lower limit\n"
   ]
  },
  {
   "cell_type": "code",
   "execution_count": 9,
   "metadata": {
    "slideshow": {
     "slide_type": "slide"
    }
   },
   "outputs": [],
   "source": [
    "# how different is the integral from \\pi = 3.14... ?\n"
   ]
  },
  {
   "cell_type": "markdown",
   "metadata": {
    "slideshow": {
     "slide_type": "slide"
    }
   },
   "source": [
    "### Can you integrate a data set?\n",
    "Example: Given data set $a(t)$ calculate integral to get $v(t)$\n",
    "\n",
    "**Which `scipy.integrate` function should you use?**"
   ]
  },
  {
   "cell_type": "code",
   "execution_count": 24,
   "metadata": {
    "slideshow": {
     "slide_type": "slide"
    }
   },
   "outputs": [
    {
     "data": {
      "text/plain": [
       "array([[ 0.00000000e+00, -7.58529663e-01,  5.33599854e-01,\n",
       "         8.59741211e+00,  8.64728807e+00],\n",
       "       [ 2.31933600e-03, -8.11172485e-01,  5.52749634e-01,\n",
       "         9.07357788e+00,  9.12651897e+00],\n",
       "       [ 4.66919000e-03, -8.51852417e-01,  5.81451416e-01,\n",
       "         9.25782776e+00,  9.31510135e+00],\n",
       "       ...,\n",
       "       [ 9.07938784e+01, -6.74774170e-01,  2.39562988e-03,\n",
       "         9.65982056e+00,  9.68335991e+00],\n",
       "       [ 9.07961977e+01, -6.96304321e-01, -9.56726074e-03,\n",
       "         9.66940308e+00,  9.69444620e+00],\n",
       "       [ 9.07985476e+01, -6.91528320e-01, -7.17163086e-03,\n",
       "         9.66221619e+00,  9.68693370e+00]])"
      ]
     },
     "execution_count": 24,
     "metadata": {},
     "output_type": "execute_result"
    }
   ],
   "source": [
    "# load the data\n",
    "data = np.loadtxt(\"my_acceleration_data.csv\", delimiter=\",\", skiprows = 1)\n",
    "data"
   ]
  },
  {
   "cell_type": "code",
   "execution_count": 25,
   "metadata": {
    "slideshow": {
     "slide_type": "slide"
    }
   },
   "outputs": [],
   "source": [
    "# extract time and pressure arrays\n",
    "t = data[:,0]  # time in seconds\n",
    "az = data[:,3]  # acceleration in m/s"
   ]
  },
  {
   "cell_type": "code",
   "execution_count": 37,
   "metadata": {
    "slideshow": {
     "slide_type": "slide"
    }
   },
   "outputs": [
    {
     "data": {
      "text/plain": [
       "Text(0.5, 0, 'time (s)')"
      ]
     },
     "execution_count": 37,
     "metadata": {},
     "output_type": "execute_result"
    },
    {
     "data": {
      "image/png": "[encoded data removed]",
      "text/plain": [
       "<Figure size 432x288 with 1 Axes>"
      ]
     },
     "metadata": {
      "needs_background": "light"
     },
     "output_type": "display_data"
    }
   ],
   "source": [
    "# create the plot of acceleration vs time\n",
    "plt.plot(t,az)\n",
    "plt.xlim(5,15)\n",
    "plt.ylim(8.5,10.5)\n",
    "plt.ylabel(\"z - acceleration (m/s$^2$)\")\n",
    "plt.xlabel(\"time (s)\")"
   ]
  },
  {
   "cell_type": "code",
   "execution_count": 63,
   "metadata": {
    "slideshow": {
     "slide_type": "slide"
    }
   },
   "outputs": [
    {
     "data": {
      "text/plain": [
       "Text(0.5, 1.0, 'Elevator starts to move downward')"
      ]
     },
     "execution_count": 63,
     "metadata": {},
     "output_type": "execute_result"
    },
    {
     "data": {
      "image/png": "[encoded data removed]",
      "text/plain": [
       "<Figure size 432x288 with 1 Axes>"
      ]
     },
     "metadata": {
      "needs_background": "light"
     },
     "output_type": "display_data"
    }
   ],
   "source": [
    "# restrict the time range to when elevator starts moving downward\n",
    "condition = np.logical_and(t < 14, t > 7)\n",
    "az_zeroed = az - 9.64\n",
    "plt.plot(t[condition],az_zeroed[condition])\n",
    "\n",
    "plt.ylabel(\"z - acceleration (m/s$^2$)\")\n",
    "plt.xlabel(\"time (s)\")\n",
    "plt.title(\"Elevator starts to move downward\")"
   ]
  },
  {
   "cell_type": "markdown",
   "metadata": {
    "slideshow": {
     "slide_type": "slide"
    }
   },
   "source": [
    "### Do the numerical integration using `cumtrapz()` within `scipy.integrate`"
   ]
  },
  {
   "cell_type": "code",
   "execution_count": 10,
   "metadata": {
    "slideshow": {
     "slide_type": "fragment"
    }
   },
   "outputs": [],
   "source": [
    "# find the velocity\n"
   ]
  },
  {
   "cell_type": "code",
   "execution_count": 11,
   "metadata": {
    "slideshow": {
     "slide_type": "slide"
    }
   },
   "outputs": [],
   "source": [
    "# plot the velocity\n"
   ]
  }
 ],
 "metadata": {
  "celltoolbar": "Slideshow",
  "kernelspec": {
   "display_name": "Python 3",
   "language": "python",
   "name": "python3"
  },
  "language_info": {
   "codemirror_mode": {
    "name": "ipython",
    "version": 3
   },
   "file_extension": ".py",
   "mimetype": "text/x-python",
   "name": "python",
   "nbconvert_exporter": "python",
   "pygments_lexer": "ipython3",
   "version": "3.6.7"
  }
 },
 "nbformat": 4,
 "nbformat_minor": 2
}
