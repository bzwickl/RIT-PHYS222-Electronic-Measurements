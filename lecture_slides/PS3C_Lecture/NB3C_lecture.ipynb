{
 "cells": [
  {
   "cell_type": "markdown",
   "metadata": {
    "slideshow": {
     "slide_type": "slide"
    }
   },
   "source": [
    "# PHYS 225\n",
    "## Intro to Computational Physics\n",
    "### 9-04-2020"
   ]
  },
  {
   "cell_type": "markdown",
   "metadata": {
    "slideshow": {
     "slide_type": "slide"
    }
   },
   "source": [
    "# Outline\n",
    "\n",
    "* Logic and conditional statements \n",
    "* Loops\n",
    "* Flow charts\n",
    "* Euler's method for solving equations of motion \n",
    "\n",
    "$$ \\sum{\\vec{F}} = m \\frac{d^2\\vec{r}}{dt^2} $$\n"
   ]
  },
  {
   "cell_type": "code",
   "execution_count": 29,
   "metadata": {
    "slideshow": {
     "slide_type": "fragment"
    }
   },
   "outputs": [],
   "source": [
    "import numpy as np\n",
    "import matplotlib.pyplot as plt"
   ]
  },
  {
   "cell_type": "markdown",
   "metadata": {
    "slideshow": {
     "slide_type": "slide"
    }
   },
   "source": [
    "### Prelabs on Datacamp for next week\n",
    "\n",
    "**Mon/Tues:** Logic, Control Flow and Filtering\n",
    "\n",
    "**Wed/Thurs:** Loops"
   ]
  },
  {
   "cell_type": "markdown",
   "metadata": {
    "slideshow": {
     "slide_type": "slide"
    }
   },
   "source": [
    "## Comparisons, logic, and conditional statements\n",
    "#### Boolean variables have two possible: `True` and `False`"
   ]
  },
  {
   "cell_type": "code",
   "execution_count": 31,
   "metadata": {
    "slideshow": {
     "slide_type": "subslide"
    }
   },
   "outputs": [
    {
     "name": "stdout",
     "output_type": "stream",
     "text": [
      "False\n",
      "<class 'bool'>\n"
     ]
    }
   ],
   "source": [
    "b1 = False\n",
    "print( b1 )\n",
    "print( type( b1 ) )"
   ]
  },
  {
   "cell_type": "markdown",
   "metadata": {
    "slideshow": {
     "slide_type": "slide"
    }
   },
   "source": [
    "## Comparison operators\n",
    "* `==` equal (uses two `=` signs to differentiate from assignment)\n",
    "* `!=` not equal\n",
    "* `>` greater than  \n",
    "* `<` less than \n",
    "* `>=` greater than or equal to\n",
    "* `<=` less than or equal to"
   ]
  },
  {
   "cell_type": "code",
   "execution_count": 36,
   "metadata": {
    "slideshow": {
     "slide_type": "subslide"
    }
   },
   "outputs": [
    {
     "name": "stdout",
     "output_type": "stream",
     "text": [
      "True\n",
      "<class 'bool'>\n"
     ]
    }
   ],
   "source": [
    "x = 3\n",
    "y = 3\n",
    "print(x ==  y)\n",
    "b2 = ( x == y )  # comparison happens FIRST, assignment happens LAST\n",
    "print(type(b2) )"
   ]
  },
  {
   "cell_type": "code",
   "execution_count": 43,
   "metadata": {
    "slideshow": {
     "slide_type": "slide"
    }
   },
   "outputs": [
    {
     "name": "stdout",
     "output_type": "stream",
     "text": [
      "True\n",
      "<class 'numpy.ndarray'>\n",
      "True\n"
     ]
    }
   ],
   "source": [
    "## Show comparisons can be used for type checking for strings, integers\n",
    "a = [\"abc\", 0]\n",
    "print( type(a) != str )\n",
    "\n",
    "#How can we test if a variable is a numpy array?\n",
    "b = np.linspace(0,10,1) \n",
    "print ( type( b ))  # What type is a numpy array?\n",
    "\n",
    "print( type(b) == np.ndarray )\n"
   ]
  },
  {
   "cell_type": "markdown",
   "metadata": {
    "slideshow": {
     "slide_type": "slide"
    }
   },
   "source": [
    "### Boolean logic operators\n",
    "* `and`\n",
    "* `or`\n",
    "* `not`"
   ]
  },
  {
   "cell_type": "code",
   "execution_count": 58,
   "metadata": {
    "slideshow": {
     "slide_type": "fragment"
    }
   },
   "outputs": [
    {
     "name": "stdout",
     "output_type": "stream",
     "text": [
      "True\n",
      "False\n"
     ]
    }
   ],
   "source": [
    "# demo some boolean operators\n",
    "#print(False or False)\n",
    "# show order of operation between comparisons and boolean operators\n",
    "x = -5\n",
    "print( x > 0 or x < 10)\n",
    "print( not(x > 0 or x < 10) )"
   ]
  },
  {
   "cell_type": "markdown",
   "metadata": {
    "slideshow": {
     "slide_type": "slide"
    }
   },
   "source": [
    "## Task 1\n",
    "\n",
    "#### Which code will return **`True`** if either `u` or `v` is **not** a numpy array?\n",
    "\n",
    "A ` type (u or v) != np.ndarray`\n",
    "\n",
    "B ` type(u) == not(np.ndarray) or type(v) == not(np.ndarray)`\n",
    "\n",
    "C ` type(u) != np.ndarray or type(v) != np.ndarray`\n",
    "\n",
    "D ` ( type(u) or type(v) ) != np.ndarray`\n",
    "\n",
    "E ` not( type(u) == np.ndarray ) or not( type(v) == np.ndarray ) `\n",
    "\n",
    "\n",
    "\n",
    "\n",
    "\n"
   ]
  },
  {
   "cell_type": "markdown",
   "metadata": {
    "slideshow": {
     "slide_type": "slide"
    }
   },
   "source": [
    "Why does this matter? Functions like `angle_span` and `F_grav_vec` from the previous lab require numpy array inputs. If their is not, we may want to produce an error message to the user."
   ]
  },
  {
   "cell_type": "code",
   "execution_count": 28,
   "metadata": {
    "slideshow": {
     "slide_type": "fragment"
    }
   },
   "outputs": [
    {
     "ename": "ValueError",
     "evalue": "The truth value of an array with more than one element is ambiguous. Use a.any() or a.all()",
     "output_type": "error",
     "traceback": [
      "\u001b[0;31m---------------------------------------------------------------------------\u001b[0m",
      "\u001b[0;31mValueError\u001b[0m                                Traceback (most recent call last)",
      "\u001b[0;32m<ipython-input-28-b9f5226e4a9a>\u001b[0m in \u001b[0;36m<module>\u001b[0;34m\u001b[0m\n\u001b[1;32m      6\u001b[0m     \u001b[0;32mreturn\u001b[0m\u001b[0;34m\u001b[0m\u001b[0;34m\u001b[0m\u001b[0m\n\u001b[1;32m      7\u001b[0m \u001b[0mf\u001b[0m\u001b[0;34m(\u001b[0m\u001b[0ma\u001b[0m\u001b[0;34m,\u001b[0m\u001b[0ma\u001b[0m\u001b[0;34m)\u001b[0m\u001b[0;34m\u001b[0m\u001b[0;34m\u001b[0m\u001b[0m\n\u001b[0;32m----> 8\u001b[0;31m \u001b[0mb\u001b[0m \u001b[0;32mor\u001b[0m \u001b[0mb\u001b[0m\u001b[0;34m\u001b[0m\u001b[0;34m\u001b[0m\u001b[0m\n\u001b[0m",
      "\u001b[0;31mValueError\u001b[0m: The truth value of an array with more than one element is ambiguous. Use a.any() or a.all()"
     ]
    }
   ],
   "source": [
    "a = \"happy\"\n",
    "b = np.array([0,1,2])\n",
    "\n",
    "def f(u,v) :\n",
    "    c = 1# code for the boolean expression\n",
    "    return \n",
    "f(a,a)\n",
    "b or b"
   ]
  },
  {
   "cell_type": "markdown",
   "metadata": {
    "slideshow": {
     "slide_type": "slide"
    }
   },
   "source": [
    "## `for` loops\n",
    "\n",
    "    for var in sequence :\n",
    "        expression  # series of steps or calculations you want to repeat\n",
    "        \n",
    "**`sequence`** is a list of possible values  \n",
    "**`var`** is the  variable that cycles to the next element in `sequence` each time through the loop   \n",
    "**`expression`** is the code you want to execute each time.  \n",
    "\n",
    "*For each `var` in `sequence`, execute `expression`*"
   ]
  },
  {
   "cell_type": "code",
   "execution_count": 62,
   "metadata": {
    "slideshow": {
     "slide_type": "fragment"
    }
   },
   "outputs": [
    {
     "name": "stdout",
     "output_type": "stream",
     "text": [
      "0\n",
      "1\n",
      "2\n",
      "3\n",
      "4\n",
      "5\n",
      "6\n",
      "7\n",
      "8\n",
      "9\n",
      "10\n",
      "11\n",
      "12\n",
      "13\n",
      "14\n",
      "15\n",
      "16\n",
      "17\n",
      "18\n",
      "19\n",
      "20\n",
      "21\n",
      "22\n",
      "23\n",
      "24\n",
      "25\n",
      "26\n",
      "27\n",
      "28\n",
      "29\n",
      "30\n",
      "31\n",
      "32\n",
      "33\n",
      "34\n",
      "35\n",
      "36\n",
      "37\n",
      "38\n",
      "39\n",
      "40\n",
      "41\n",
      "42\n",
      "43\n",
      "44\n",
      "45\n",
      "46\n",
      "47\n",
      "48\n",
      "49\n",
      "50\n",
      "51\n",
      "52\n",
      "53\n",
      "54\n",
      "55\n",
      "56\n",
      "57\n",
      "58\n",
      "59\n",
      "60\n",
      "61\n",
      "62\n",
      "63\n",
      "64\n",
      "65\n",
      "66\n",
      "67\n",
      "68\n",
      "69\n",
      "70\n",
      "71\n",
      "72\n",
      "73\n",
      "74\n",
      "75\n",
      "76\n",
      "77\n",
      "78\n",
      "79\n",
      "80\n",
      "81\n",
      "82\n",
      "83\n",
      "84\n",
      "85\n",
      "86\n",
      "87\n",
      "88\n",
      "89\n",
      "90\n",
      "91\n",
      "92\n",
      "93\n",
      "94\n",
      "95\n",
      "96\n",
      "97\n",
      "98\n",
      "99\n",
      "100\n",
      "101\n",
      "102\n",
      "103\n",
      "104\n",
      "105\n",
      "106\n",
      "107\n",
      "108\n",
      "109\n",
      "110\n",
      "111\n",
      "112\n",
      "113\n",
      "114\n",
      "115\n",
      "116\n",
      "117\n",
      "118\n",
      "119\n",
      "120\n",
      "121\n",
      "122\n",
      "123\n",
      "124\n",
      "125\n",
      "126\n",
      "127\n",
      "128\n",
      "129\n",
      "130\n",
      "131\n",
      "132\n",
      "133\n",
      "134\n",
      "135\n",
      "136\n",
      "137\n",
      "138\n",
      "139\n",
      "140\n",
      "141\n",
      "142\n",
      "143\n",
      "144\n",
      "145\n",
      "146\n",
      "147\n",
      "148\n",
      "149\n",
      "150\n",
      "151\n",
      "152\n",
      "153\n",
      "154\n",
      "155\n",
      "156\n",
      "157\n",
      "158\n",
      "159\n",
      "160\n",
      "161\n",
      "162\n",
      "163\n",
      "164\n",
      "165\n",
      "166\n",
      "167\n",
      "168\n",
      "169\n",
      "170\n",
      "171\n",
      "172\n",
      "173\n",
      "174\n",
      "175\n",
      "176\n",
      "177\n",
      "178\n",
      "179\n",
      "180\n",
      "181\n",
      "182\n",
      "183\n",
      "184\n",
      "185\n",
      "186\n",
      "187\n",
      "188\n",
      "189\n",
      "190\n",
      "191\n",
      "192\n",
      "193\n",
      "194\n",
      "195\n",
      "196\n",
      "197\n",
      "198\n",
      "199\n",
      "200\n",
      "201\n",
      "202\n",
      "203\n",
      "204\n",
      "205\n",
      "206\n",
      "207\n",
      "208\n",
      "209\n",
      "210\n",
      "211\n",
      "212\n",
      "213\n",
      "214\n",
      "215\n",
      "216\n",
      "217\n",
      "218\n",
      "219\n",
      "220\n",
      "221\n",
      "222\n",
      "223\n",
      "224\n",
      "225\n",
      "226\n",
      "227\n",
      "228\n",
      "229\n",
      "230\n",
      "231\n",
      "232\n",
      "233\n",
      "234\n",
      "235\n",
      "236\n",
      "237\n",
      "238\n",
      "239\n",
      "240\n",
      "241\n",
      "242\n",
      "243\n",
      "244\n",
      "245\n",
      "246\n",
      "247\n",
      "248\n",
      "249\n",
      "250\n",
      "251\n",
      "252\n",
      "253\n",
      "254\n",
      "255\n",
      "256\n",
      "257\n",
      "258\n",
      "259\n",
      "260\n",
      "261\n",
      "262\n",
      "263\n",
      "264\n",
      "265\n",
      "266\n",
      "267\n",
      "268\n",
      "269\n",
      "270\n",
      "271\n",
      "272\n",
      "273\n",
      "274\n",
      "275\n",
      "276\n",
      "277\n",
      "278\n",
      "279\n",
      "280\n",
      "281\n",
      "282\n",
      "283\n",
      "284\n",
      "285\n",
      "286\n",
      "287\n",
      "288\n",
      "289\n",
      "290\n",
      "291\n",
      "292\n",
      "293\n",
      "294\n",
      "295\n",
      "296\n",
      "297\n",
      "298\n",
      "299\n",
      "300\n",
      "301\n",
      "302\n",
      "303\n",
      "304\n",
      "305\n",
      "306\n",
      "307\n",
      "308\n",
      "309\n",
      "310\n",
      "311\n",
      "312\n",
      "313\n",
      "314\n",
      "315\n",
      "316\n",
      "317\n",
      "318\n",
      "319\n",
      "320\n",
      "321\n",
      "322\n",
      "323\n",
      "324\n",
      "325\n",
      "326\n",
      "327\n",
      "328\n",
      "329\n",
      "330\n",
      "331\n",
      "332\n",
      "333\n",
      "334\n",
      "335\n",
      "336\n",
      "337\n",
      "338\n",
      "339\n",
      "340\n",
      "341\n",
      "342\n",
      "343\n",
      "344\n",
      "345\n",
      "346\n",
      "347\n",
      "348\n",
      "349\n",
      "350\n",
      "351\n",
      "352\n",
      "353\n",
      "354\n",
      "355\n",
      "356\n",
      "357\n",
      "358\n",
      "359\n",
      "360\n",
      "361\n",
      "362\n",
      "363\n",
      "364\n",
      "365\n",
      "366\n",
      "367\n",
      "368\n",
      "369\n",
      "370\n",
      "371\n",
      "372\n",
      "373\n",
      "374\n",
      "375\n",
      "376\n",
      "377\n",
      "378\n",
      "379\n",
      "380\n",
      "381\n",
      "382\n",
      "383\n",
      "384\n",
      "385\n",
      "386\n",
      "387\n",
      "388\n",
      "389\n",
      "390\n",
      "391\n",
      "392\n",
      "393\n",
      "394\n",
      "395\n",
      "396\n",
      "397\n",
      "398\n",
      "399\n",
      "400\n",
      "401\n",
      "402\n",
      "403\n",
      "404\n",
      "405\n",
      "406\n",
      "407\n",
      "408\n",
      "409\n",
      "410\n",
      "411\n",
      "412\n",
      "413\n",
      "414\n",
      "415\n",
      "416\n",
      "417\n",
      "418\n",
      "419\n",
      "420\n",
      "421\n",
      "422\n",
      "423\n",
      "424\n",
      "425\n",
      "426\n",
      "427\n",
      "428\n",
      "429\n",
      "430\n",
      "431\n",
      "432\n",
      "433\n",
      "434\n",
      "435\n",
      "436\n",
      "437\n",
      "438\n",
      "439\n",
      "440\n",
      "441\n",
      "442\n",
      "443\n",
      "444\n",
      "445\n",
      "446\n",
      "447\n",
      "448\n",
      "449\n",
      "450\n",
      "451\n",
      "452\n",
      "453\n",
      "454\n",
      "455\n",
      "456\n",
      "457\n",
      "458\n",
      "459\n",
      "460\n",
      "461\n",
      "462\n",
      "463\n",
      "464\n",
      "465\n",
      "466\n",
      "467\n",
      "468\n",
      "469\n",
      "470\n",
      "471\n",
      "472\n",
      "473\n",
      "474\n",
      "475\n",
      "476\n",
      "477\n",
      "478\n",
      "479\n",
      "480\n",
      "481\n",
      "482\n",
      "483\n",
      "484\n",
      "485\n",
      "486\n",
      "487\n",
      "488\n",
      "489\n",
      "490\n",
      "491\n",
      "492\n",
      "493\n",
      "494\n",
      "495\n",
      "496\n",
      "497\n",
      "498\n",
      "499\n",
      "500\n",
      "501\n",
      "502\n",
      "503\n",
      "504\n",
      "505\n",
      "506\n",
      "507\n",
      "508\n",
      "509\n",
      "510\n",
      "511\n",
      "512\n",
      "513\n",
      "514\n",
      "515\n",
      "516\n",
      "517\n",
      "518\n",
      "519\n",
      "520\n",
      "521\n",
      "522\n",
      "523\n",
      "524\n",
      "525\n",
      "526\n",
      "527\n",
      "528\n",
      "529\n",
      "530\n",
      "531\n",
      "532\n",
      "533\n",
      "534\n",
      "535\n",
      "536\n",
      "537\n",
      "538\n",
      "539\n",
      "540\n",
      "541\n",
      "542\n",
      "543\n",
      "544\n",
      "545\n",
      "546\n",
      "547\n",
      "548\n",
      "549\n",
      "550\n",
      "551\n",
      "552\n",
      "553\n",
      "554\n",
      "555\n",
      "556\n",
      "557\n",
      "558\n",
      "559\n",
      "560\n",
      "561\n",
      "562\n",
      "563\n",
      "564\n",
      "565\n",
      "566\n",
      "567\n",
      "568\n",
      "569\n",
      "570\n",
      "571\n",
      "572\n",
      "573\n",
      "574\n",
      "575\n",
      "576\n",
      "577\n",
      "578\n",
      "579\n",
      "580\n",
      "581\n",
      "582\n",
      "583\n",
      "584\n",
      "585\n",
      "586\n",
      "587\n",
      "588\n",
      "589\n",
      "590\n",
      "591\n",
      "592\n",
      "593\n",
      "594\n",
      "595\n",
      "596\n",
      "597\n",
      "598\n",
      "599\n",
      "600\n",
      "601\n",
      "602\n",
      "603\n",
      "604\n",
      "605\n",
      "606\n",
      "607\n",
      "608\n",
      "609\n",
      "610\n",
      "611\n",
      "612\n",
      "613\n",
      "614\n",
      "615\n",
      "616\n",
      "617\n",
      "618\n",
      "619\n",
      "620\n",
      "621\n",
      "622\n",
      "623\n",
      "624\n",
      "625\n",
      "626\n",
      "627\n",
      "628\n",
      "629\n",
      "630\n",
      "631\n",
      "632\n",
      "633\n",
      "634\n",
      "635\n",
      "636\n",
      "637\n",
      "638\n",
      "639\n",
      "640\n",
      "641\n",
      "642\n",
      "643\n",
      "644\n",
      "645\n",
      "646\n",
      "647\n",
      "648\n",
      "649\n",
      "650\n",
      "651\n",
      "652\n",
      "653\n",
      "654\n",
      "655\n",
      "656\n",
      "657\n",
      "658\n",
      "659\n",
      "660\n",
      "661\n",
      "662\n",
      "663\n",
      "664\n",
      "665\n",
      "666\n",
      "667\n",
      "668\n",
      "669\n",
      "670\n",
      "671\n",
      "672\n",
      "673\n",
      "674\n",
      "675\n",
      "676\n",
      "677\n",
      "678\n",
      "679\n",
      "680\n",
      "681\n",
      "682\n",
      "683\n",
      "684\n",
      "685\n",
      "686\n",
      "687\n",
      "688\n",
      "689\n",
      "690\n",
      "691\n",
      "692\n",
      "693\n",
      "694\n",
      "695\n",
      "696\n",
      "697\n",
      "698\n",
      "699\n",
      "700\n",
      "701\n",
      "702\n",
      "703\n",
      "704\n",
      "705\n",
      "706\n",
      "707\n",
      "708\n",
      "709\n",
      "710\n",
      "711\n",
      "712\n",
      "713\n",
      "714\n",
      "715\n",
      "716\n",
      "717\n",
      "718\n",
      "719\n",
      "720\n",
      "721\n",
      "722\n",
      "723\n",
      "724\n",
      "725\n",
      "726\n",
      "727\n",
      "728\n",
      "729\n",
      "730\n",
      "731\n",
      "732\n",
      "733\n",
      "734\n",
      "735\n",
      "736\n",
      "737\n",
      "738\n",
      "739\n",
      "740\n",
      "741\n",
      "742\n",
      "743\n",
      "744\n",
      "745\n",
      "746\n",
      "747\n",
      "748\n",
      "749\n",
      "750\n",
      "751\n",
      "752\n",
      "753\n",
      "754\n",
      "755\n",
      "756\n",
      "757\n",
      "758\n",
      "759\n",
      "760\n",
      "761\n",
      "762\n",
      "763\n",
      "764\n",
      "765\n",
      "766\n",
      "767\n",
      "768\n",
      "769\n",
      "770\n",
      "771\n",
      "772\n",
      "773\n",
      "774\n",
      "775\n",
      "776\n",
      "777\n",
      "778\n",
      "779\n",
      "780\n",
      "781\n",
      "782\n",
      "783\n",
      "784\n",
      "785\n",
      "786\n",
      "787\n",
      "788\n",
      "789\n",
      "790\n",
      "791\n",
      "792\n",
      "793\n",
      "794\n",
      "795\n",
      "796\n",
      "797\n",
      "798\n",
      "799\n",
      "800\n",
      "801\n",
      "802\n",
      "803\n",
      "804\n",
      "805\n",
      "806\n",
      "807\n",
      "808\n",
      "809\n",
      "810\n",
      "811\n",
      "812\n",
      "813\n",
      "814\n",
      "815\n",
      "816\n",
      "817\n",
      "818\n",
      "819\n",
      "820\n",
      "821\n",
      "822\n",
      "823\n",
      "824\n",
      "825\n",
      "826\n",
      "827\n",
      "828\n",
      "829\n",
      "830\n",
      "831\n",
      "832\n",
      "833\n",
      "834\n",
      "835\n",
      "836\n",
      "837\n",
      "838\n",
      "839\n",
      "840\n",
      "841\n",
      "842\n",
      "843\n",
      "844\n",
      "845\n",
      "846\n",
      "847\n",
      "848\n",
      "849\n",
      "850\n",
      "851\n",
      "852\n",
      "853\n",
      "854\n",
      "855\n",
      "856\n",
      "857\n",
      "858\n",
      "859\n",
      "860\n",
      "861\n",
      "862\n",
      "863\n",
      "864\n",
      "865\n",
      "866\n",
      "867\n",
      "868\n",
      "869\n",
      "870\n",
      "871\n",
      "872\n",
      "873\n",
      "874\n",
      "875\n",
      "876\n",
      "877\n",
      "878\n",
      "879\n",
      "880\n",
      "881\n",
      "882\n",
      "883\n",
      "884\n",
      "885\n",
      "886\n",
      "887\n",
      "888\n",
      "889\n",
      "890\n",
      "891\n",
      "892\n",
      "893\n",
      "894\n",
      "895\n",
      "896\n",
      "897\n",
      "898\n",
      "899\n",
      "900\n",
      "901\n",
      "902\n",
      "903\n",
      "904\n",
      "905\n",
      "906\n",
      "907\n",
      "908\n",
      "909\n",
      "910\n",
      "911\n",
      "912\n",
      "913\n",
      "914\n",
      "915\n",
      "916\n",
      "917\n",
      "918\n",
      "919\n",
      "920\n",
      "921\n",
      "922\n",
      "923\n",
      "924\n",
      "925\n",
      "926\n",
      "927\n",
      "928\n",
      "929\n",
      "930\n",
      "931\n",
      "932\n",
      "933\n",
      "934\n",
      "935\n",
      "936\n",
      "937\n",
      "938\n",
      "939\n",
      "940\n",
      "941\n",
      "942\n",
      "943\n",
      "944\n",
      "945\n",
      "946\n",
      "947\n",
      "948\n",
      "949\n",
      "950\n",
      "951\n",
      "952\n",
      "953\n",
      "954\n",
      "955\n",
      "956\n",
      "957\n",
      "958\n",
      "959\n",
      "960\n",
      "961\n",
      "962\n",
      "963\n",
      "964\n",
      "965\n",
      "966\n",
      "967\n",
      "968\n",
      "969\n",
      "970\n",
      "971\n",
      "972\n",
      "973\n",
      "974\n",
      "975\n",
      "976\n",
      "977\n",
      "978\n",
      "979\n",
      "980\n",
      "981\n",
      "982\n",
      "983\n",
      "984\n",
      "985\n",
      "986\n",
      "987\n",
      "988\n",
      "989\n",
      "990\n",
      "991\n",
      "992\n",
      "993\n",
      "994\n",
      "995\n",
      "996\n",
      "997\n",
      "998\n",
      "999\n"
     ]
    }
   ],
   "source": [
    "# print the first 5 positive, non-zero integers\n",
    "for i in range(0,1000)  :\n",
    "    print(i)"
   ]
  },
  {
   "cell_type": "markdown",
   "metadata": {
    "slideshow": {
     "slide_type": "slide"
    }
   },
   "source": [
    "# `for` loops over Numpy arrays\n",
    "\n",
    "the sequence you loop over can be a numpy array"
   ]
  },
  {
   "cell_type": "code",
   "execution_count": 63,
   "metadata": {
    "slideshow": {
     "slide_type": "fragment"
    }
   },
   "outputs": [
    {
     "name": "stdout",
     "output_type": "stream",
     "text": [
      "0.0\n",
      "5.0\n",
      "10.0\n",
      "15.0\n",
      "20.0\n",
      "25.0\n",
      "30.0\n",
      "35.0\n",
      "40.0\n",
      "45.0\n",
      "50.0\n",
      "55.0\n",
      "60.0\n",
      "65.0\n",
      "70.0\n",
      "75.0\n",
      "80.0\n",
      "85.0\n",
      "90.0\n"
     ]
    }
   ],
   "source": [
    "import numpy as np\n",
    "\n",
    "# `for` loops over Numpy arrays\n",
    "for theta in np.linspace(0,90,19) :  # theta goes from 0 to 90 in 5 degree steps\n",
    "    print(theta)"
   ]
  },
  {
   "cell_type": "markdown",
   "metadata": {
    "slideshow": {
     "slide_type": "slide"
    }
   },
   "source": [
    "# Demonstrate loops for looping over `plot_trajectory()` function in PS3A\n",
    "\n",
    "Dr. Zwickl will copy and paste code from PS3A solutions to show the utility of the loop."
   ]
  },
  {
   "cell_type": "code",
   "execution_count": 64,
   "metadata": {
    "slideshow": {
     "slide_type": "fragment"
    }
   },
   "outputs": [],
   "source": [
    "import matplotlib.pyplot as plt\n",
    "\n",
    "def plot_trajectory(v0, theta, x0, y0, tmax) :\n",
    "    \n",
    "    g = -9.8\n",
    "    t = np.linspace(0,tmax, 100)  # define the time array\n",
    "    \n",
    "    theta = theta * np.pi / 180  # convert to radians\n",
    "    v0x = v0 * np.cos(theta) \n",
    "    v0y = v0 * np.sin(theta)\n",
    "    x = x_proj(x0, v0x, t)\n",
    "    y = y_proj(y0, v0y, g, t)\n",
    "    plt.plot(x,y)\n",
    "    plt.xlabel(\"Horizontal Position (m)\")\n",
    "    plt.ylabel(\"Vertical Position (m)\")\n",
    "\n",
    "#define the x_proj function\n",
    "def x_proj(x0, v0x, t) :\n",
    "    result = x0 + v0x * t\n",
    "    return result\n",
    "\n",
    "def y_proj(y0, v0y, ay, t) :\n",
    "    result = y0 + v0y * t + (ay / 2) * t**2\n",
    "    return result"
   ]
  },
  {
   "cell_type": "code",
   "execution_count": 73,
   "metadata": {
    "slideshow": {
     "slide_type": "slide"
    }
   },
   "outputs": [
    {
     "name": "stdout",
     "output_type": "stream",
     "text": [
      "[ 0.  5. 10. 15. 20. 25. 30. 35. 40. 45. 50. 55. 60. 65. 70. 75. 80. 85.\n",
      " 90.]\n"
     ]
    },
    {
     "data": {
      "text/plain": [
       "(0.0, 100.0)"
      ]
     },
     "execution_count": 73,
     "metadata": {},
     "output_type": "execute_result"
    },
    {
     "data": {
      "image/png": "[encoded data removed]",
      "text/plain": [
       "<Figure size 432x288 with 1 Axes>"
      ]
     },
     "metadata": {
      "needs_background": "light"
     },
     "output_type": "display_data"
    }
   ],
   "source": [
    "# Assume an initial speed of 20 m/s, and the initial height is 100\n",
    "# make a loop showing trajectories between 0-90 degrees\n",
    "# SET UP INITIAL CONDITIONS\n",
    "v = 20 # m/s initial speed\n",
    "x0 = 0  # (m) initial x position\n",
    "y0 = 100 # m initial height\n",
    "# SET UP RANGE OF ANGLES\n",
    "thetas =  np.linspace(0,90,19)  # theta goes from 0 to 90 in 5 degree steps\n",
    "print(thetas)\n",
    "# MAKE LOOP\n",
    "for theta in thetas :\n",
    "    plot_trajectory(v, theta, x0, y0, 10)\n",
    "plt.ylim(0,125)\n",
    "plt.xlim(0,100)"
   ]
  },
  {
   "cell_type": "markdown",
   "metadata": {
    "slideshow": {
     "slide_type": "slide"
    }
   },
   "source": [
    "# Task 2: Fibonacci numbers\n",
    "The Fibonacci numbers $F_n$ form a sequence where each number is the sum of the two preceeding ones.  \n",
    "\n",
    "$F_0 = 0$,  $F_1 = 1$  \n",
    "$F_n = F_{n-1} + F_{n-2}$\n",
    "\n",
    "$0, 1, 1, 2, 3, 5, 8, 13, 21, ...$"
   ]
  },
  {
   "cell_type": "code",
   "execution_count": 83,
   "metadata": {
    "slideshow": {
     "slide_type": "subslide"
    }
   },
   "outputs": [
    {
     "name": "stdout",
     "output_type": "stream",
     "text": [
      "F_0 = 0\n",
      "F_1 = 1\n",
      "0\n",
      "1\n",
      "F_2 = 1\n",
      "1\n",
      "1\n",
      "F_3 = 2\n",
      "1\n",
      "2\n",
      "F_4 = 3\n",
      "2\n",
      "3\n",
      "F_5 = 5\n"
     ]
    }
   ],
   "source": [
    "fn2 = 0  # the n-2 term is initially zero\n",
    "fn1 = 1  # the next term (the n - 1 term)\n",
    "\n",
    "print(\"F_0 = \" + str(fn2) )\n",
    "\n",
    "print(\"F_1 = \" + str(fn1) )\n",
    "\n",
    "for n in range(2,6) :  # loop 4 times, starting at n = 2\n",
    "    print(fn2)\n",
    "    print(fn1)\n",
    "    fn = fn2 + fn1  # calculate the next    \n",
    "    print(\"F_\" + str(n) + \" = \" + str(fn) )  # print out\n",
    "    fn2 = fn1\n",
    "    fn1 = fn\n",
    "   \n",
    "    \n",
    "    "
   ]
  },
  {
   "cell_type": "markdown",
   "metadata": {
    "slideshow": {
     "slide_type": "subslide"
    }
   },
   "source": [
    "## 1. What is Dr. Zwickl doing wrong? \n",
    "\n",
    "## 2. Can you add two lines to fix it?"
   ]
  },
  {
   "cell_type": "markdown",
   "metadata": {
    "slideshow": {
     "slide_type": "slide"
    }
   },
   "source": [
    "# `while` loops\n",
    "\n",
    "    while condition :\n",
    "        expression\n",
    "        \n",
    "Keep repeating the `expression` so long as `condition` is `True`"
   ]
  },
  {
   "cell_type": "code",
   "execution_count": 84,
   "metadata": {
    "slideshow": {
     "slide_type": "slide"
    }
   },
   "outputs": [
    {
     "name": "stdout",
     "output_type": "stream",
     "text": [
      "Bake time  = 0, keep it in the oven!\n",
      "Bake time  = 5, keep it in the oven!\n",
      "Bake time  = 10, keep it in the oven!\n",
      "Bake time  = 15, keep it in the oven!\n",
      "Bake time  = 20, keep it in the oven!\n",
      "Bake time  = 25, keep it in the oven!\n",
      "Bake time  = 30, keep it in the oven!\n",
      "Bake time  = 35, keep it in the oven!\n",
      "Bake time  = 40, keep it in the oven!\n",
      "Bake time  = 45, keep it in the oven!\n",
      "Bake time  = 50, keep it in the oven!\n",
      "Bake time  = 55, keep it in the oven!\n",
      "Cake done!\n"
     ]
    }
   ],
   "source": [
    "t = 0 \n",
    "while t < 60 :\n",
    "    print(\"Bake time  = \" + str(t) + \", keep it in the oven!\")\n",
    "    t = t + 5 # update time\n",
    "    \n",
    "print(\"Cake done!\")"
   ]
  },
  {
   "cell_type": "markdown",
   "metadata": {
    "slideshow": {
     "slide_type": "slide"
    }
   },
   "source": [
    "## Task 3: Answer the following in relation to the code below\n",
    "1. What output will be printed?\n",
    "1. What might this Python code represent? Does it model some particular physical system?\n",
    "**Copy code into Discord for breakout room discussions** "
   ]
  },
  {
   "cell_type": "code",
   "execution_count": 85,
   "metadata": {
    "slideshow": {
     "slide_type": "subslide"
    }
   },
   "outputs": [
    {
     "name": "stdout",
     "output_type": "stream",
     "text": [
      "x = 0\n",
      "x = 0.08000000000000002\n",
      "x = 0.16000000000000003\n",
      "x = 0.24000000000000005\n",
      "x = 0.32000000000000006\n",
      "x = 0.4000000000000001\n",
      "x = 0.4800000000000001\n",
      "x = 0.56\n",
      "x = 0.6400000000000001\n",
      "x = 0.7200000000000002\n",
      "x = 0.8000000000000003\n"
     ]
    }
   ],
   "source": [
    "x = 0      # initial position in m\n",
    "v = 0.8   # initial velocity in m/s\n",
    "t = 0      # initial time in sec. \n",
    "tmax = 1   # time for stopping calculation in sec.\n",
    "dt = 0.1   # time step in sec.\n",
    "\n",
    "while t <= tmax :\n",
    "    print(\"x = \" + str(x) )\n",
    "   \n",
    "    x = x + v*dt   # new position = old position + v*dt\n",
    "    t = t + dt     # updating to the next time"
   ]
  },
  {
   "cell_type": "markdown",
   "metadata": {
    "slideshow": {
     "slide_type": "slide"
    }
   },
   "source": [
    "## Are you sure you want to advance the slide?"
   ]
  },
  {
   "cell_type": "markdown",
   "metadata": {
    "slideshow": {
     "slide_type": "slide"
    }
   },
   "source": [
    "## Motion of a cart\n",
    "A cart is moving on a table with a constant velocity of  $v_x = 0.8 \\textrm{ m/s}$.  The cart starts at $x = 0\\textrm{ m}$.\n",
    "\n",
    "Write a program to calculate the $x$ position every $dt = 0.1 \\textrm{ s}$ for $1 \\textrm{ s}$."
   ]
  },
  {
   "cell_type": "code",
   "execution_count": 86,
   "metadata": {
    "slideshow": {
     "slide_type": "subslide"
    }
   },
   "outputs": [
    {
     "name": "stdout",
     "output_type": "stream",
     "text": [
      "x = 0\n",
      "x = 0.08000000000000002\n",
      "x = 0.16200000000000003\n",
      "x = 0.24600000000000005\n",
      "x = 0.3320000000000001\n",
      "x = 0.4200000000000001\n",
      "x = 0.5100000000000001\n",
      "x = 0.6020000000000001\n",
      "x = 0.6960000000000002\n",
      "x = 0.7920000000000003\n",
      "x = 0.8900000000000003\n"
     ]
    }
   ],
   "source": [
    "x = 0      # initial position in m\n",
    "v = 0.8   # initial velocity in m/s\n",
    "a = 0.2   # acceleration in m/s^2\n",
    "t = 0      # initial time in sec. \n",
    "tmax = 1   # time for stopping calculation in sec.\n",
    "dt = 0.1   # time step in sec.\n",
    "\n",
    "\n",
    "while t <= tmax :\n",
    "    print(\"x = \" + str(x) )  # print out the current position\n",
    "   \n",
    "    x = x + v*dt  # update the position using the velocity\n",
    "    v = v + a*dt   # updating the velocity using acceleration\n",
    "    t = t + dt    # increase the time by dt"
   ]
  },
  {
   "cell_type": "markdown",
   "metadata": {
    "slideshow": {
     "slide_type": "slide"
    }
   },
   "source": [
    "## Task 4: Modify code to add acceleration\n",
    "The table is tilted so now the object has an acceleration $a_x = 0.2 \\textrm{ m/s}^2$.  ($x$-axis is still parallel to table top).\n",
    "\n",
    "On your paper, **add two lines to constant velocity code** to include the effect of acceleration.  You don't need to modify any existing lines of code.\n",
    "\n",
    "* What new variable(s) would you define?\n",
    "* What should change each time step of the loop?"
   ]
  },
  {
   "cell_type": "code",
   "execution_count": null,
   "metadata": {
    "slideshow": {
     "slide_type": "subslide"
    }
   },
   "outputs": [],
   "source": [
    "x = 0      # initial position in m\n",
    "v = 0.8   # initial velocity in m/s\n",
    "t = 0      # initial time in sec. \n",
    "tmax = 1   # time for stopping calculation in sec.\n",
    "dt = 0.1   # time step in sec.\n",
    "a = 0.2 # acceleration in m/s^2\n",
    "\n",
    "while t <= tmax :\n",
    "    print(\"x = \" + str(x) )  # print out the current position\n",
    "   \n",
    "    x = x + v*dt  # update the position using the velocity\n",
    "    v = v + a*dt  # update hte velocity using the acceleration\n",
    "    t = t + dt    # increase the time by dt"
   ]
  },
  {
   "cell_type": "markdown",
   "metadata": {
    "slideshow": {
     "slide_type": "subslide"
    }
   },
   "source": [
    "## Solution"
   ]
  },
  {
   "cell_type": "code",
   "execution_count": null,
   "metadata": {
    "slideshow": {
     "slide_type": "subslide"
    }
   },
   "outputs": [],
   "source": [
    "x = 0      # initial position in m\n",
    "v = 0.8   # initial velocity in m/s\n",
    "t = 0      # initial time in sec. \n",
    "tmax = 1   # time for stopping calculation in sec.\n",
    "dt = 0.1   # time step in sec.\n",
    "\n",
    "a = 0.2   # acceleration in m/s^2\n",
    "\n",
    "while t <= tmax :\n",
    "    print(\"x = \" + str(x) )  # print out the current position\n",
    "   \n",
    "    x = x + v*dt  # update the position using the velocity\n",
    "    v = v + a*dt\n",
    "    t = t + dt    # increase the time by dt"
   ]
  },
  {
   "cell_type": "markdown",
   "metadata": {
    "slideshow": {
     "slide_type": "slide"
    }
   },
   "source": [
    "## This approach is known as Euler's method to solving \"ordinary differential equations\"\n",
    "Newton's second law $\\sum\\vec{F} = ma$ is an ordinary differential equation (ODE).\n",
    "\n",
    "An ordinary differential equation is one that involves an unknown function (e.g., $x(t)$ and its derivatives (e.g., $\\frac{dx}{dt}$, $\\frac{d^2x}{dt^2}$).\n",
    "\n"
   ]
  },
  {
   "cell_type": "markdown",
   "metadata": {
    "slideshow": {
     "slide_type": "fragment"
    }
   },
   "source": [
    "## Constant acceleration down a ramp\n",
    "$$m\\frac{d^2x}{dt^2} = mg \\sin\\theta$$ "
   ]
  },
  {
   "cell_type": "markdown",
   "metadata": {
    "slideshow": {
     "slide_type": "fragment"
    }
   },
   "source": [
    "## Simple harmonic motion (mass on a spring)\n",
    "$$m\\frac{d^2x}{dt^2} = -kx$$ "
   ]
  },
  {
   "cell_type": "markdown",
   "metadata": {
    "slideshow": {
     "slide_type": "slide"
    }
   },
   "source": [
    "## Key idea: \n",
    "As $\\Delta t$ becomes really small, the approximation becomes better and better.\n",
    "\n",
    "Over very short time intervals, it is a good approximation to assume $v$ and $a$ are a constant. \n",
    "\n",
    "The old velocity $v_x$ updates to $v_x + a_x t$  \n",
    "The old position $x$ updates to $x + v_x t$"
   ]
  },
  {
   "cell_type": "code",
   "execution_count": null,
   "metadata": {},
   "outputs": [],
   "source": []
  }
 ],
 "metadata": {
  "celltoolbar": "Slideshow",
  "kernelspec": {
   "display_name": "Python 3",
   "language": "python",
   "name": "python3"
  },
  "language_info": {
   "codemirror_mode": {
    "name": "ipython",
    "version": 3
   },
   "file_extension": ".py",
   "mimetype": "text/x-python",
   "name": "python",
   "nbconvert_exporter": "python",
   "pygments_lexer": "ipython3",
   "version": "3.6.9"
  }
 },
 "nbformat": 4,
 "nbformat_minor": 2
}
