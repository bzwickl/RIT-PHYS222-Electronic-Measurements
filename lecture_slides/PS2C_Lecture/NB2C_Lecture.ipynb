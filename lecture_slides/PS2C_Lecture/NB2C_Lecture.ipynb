{
 "cells": [
  {
   "cell_type": "markdown",
   "metadata": {
    "slideshow": {
     "slide_type": "slide"
    }
   },
   "source": [
    "# PHYS 225\n",
    "## Intro to Computational Physics\n",
    "### 8-28-2020"
   ]
  },
  {
   "cell_type": "markdown",
   "metadata": {
    "slideshow": {
     "slide_type": "slide"
    }
   },
   "source": [
    "# Outline\n",
    "\n",
    "* Review Lists and Indexing\n",
    "* Introduction to the Pandas module \n",
    "* Using built-in functions (applying to Pandas)\n",
    "* Defining your own functions"
   ]
  },
  {
   "cell_type": "code",
   "execution_count": 2,
   "metadata": {
    "slideshow": {
     "slide_type": "fragment"
    }
   },
   "outputs": [],
   "source": [
    "import numpy as np\n",
    "import matplotlib.pyplot as plt"
   ]
  },
  {
   "cell_type": "markdown",
   "metadata": {
    "slideshow": {
     "slide_type": "slide"
    }
   },
   "source": [
    "# Python `list` and numpy `ndarray`\n"
   ]
  },
  {
   "cell_type": "markdown",
   "metadata": {
    "slideshow": {
     "slide_type": "slide"
    }
   },
   "source": [
    "#### Which of these is an acceptable list in Python?\n",
    "\n",
    "* A. `[1.3, 2.4, 5.6, 3.6]` \n",
    "* B. `[1,2,-5, 3.14159]` \n",
    "* C. `[1, -2.34562323, \"taco\", 2.3]`\n",
    "* D. All of the above"
   ]
  },
  {
   "cell_type": "code",
   "execution_count": 7,
   "metadata": {
    "slideshow": {
     "slide_type": "slide"
    }
   },
   "outputs": [
    {
     "name": "stdout",
     "output_type": "stream",
     "text": [
      "<class 'list'> <class 'list'>\n",
      "<class 'list'>\n",
      "<class 'list'>\n"
     ]
    },
    {
     "data": {
      "text/plain": [
       "list"
      ]
     },
     "execution_count": 7,
     "metadata": {},
     "output_type": "execute_result"
    }
   ],
   "source": [
    "# Test it out here\n",
    "a = [1.3, 2.4, 5.6, 3.6]\n",
    "b = [1,2,-5, 3.14159]\n",
    "c = [1, -2.34562323, \"taco\", 2.3]\n",
    "# use type() to check type\n",
    "print( type(a), type(b) )\n",
    "print( type(b) )\n",
    "print( type(c) ) \n",
    "\n",
    "type(a)"
   ]
  },
  {
   "cell_type": "markdown",
   "metadata": {
    "slideshow": {
     "slide_type": "fragment"
    }
   },
   "source": [
    "#### Answer: D - All of the above"
   ]
  },
  {
   "cell_type": "markdown",
   "metadata": {
    "slideshow": {
     "slide_type": "slide"
    }
   },
   "source": [
    "#### Which of these **cannot** be converted to a Numpy NDArray?\n",
    "\n",
    "\n",
    "* A. `[1.3, 2.4, 5.6, 3.6]` \n",
    "* B. `[1,2,-5, 3.14159]` \n",
    "* C. `[1, -2.34562323, \"taco\", 2.3]`\n",
    "* D. All can be converted to NDArray"
   ]
  },
  {
   "cell_type": "code",
   "execution_count": 8,
   "metadata": {
    "slideshow": {
     "slide_type": "fragment"
    }
   },
   "outputs": [
    {
     "name": "stdout",
     "output_type": "stream",
     "text": [
      "[1.3 2.4 5.6 3.6]\n",
      "[ 1.       2.      -5.       3.14159]\n",
      "['1' '-2.34562323' 'taco' '2.3']\n"
     ]
    }
   ],
   "source": [
    "# Let's test it out!\n",
    "a = [1.3, 2.4, 5.6, 3.6]   # all floats\n",
    "print( np.array(a) )\n",
    "\n",
    "b = [1,2,-5, 3.14159]   # mix of floats and integers\n",
    "print( np.array(b) )\n",
    "\n",
    "c = [1, -2.34562323, \"taco\", 2.3]   # a mix of floats, integers, and strings\n",
    "print( np.array(c) )"
   ]
  },
  {
   "cell_type": "markdown",
   "metadata": {
    "slideshow": {
     "slide_type": "slide"
    }
   },
   "source": [
    "#### Numpy arrays force all elements to become the same data type. \n",
    "* Mix of integers and floats $\\rightarrow$ all floats\n",
    "* Mix of numbers and strings $\\rightarrow$ all strings"
   ]
  },
  {
   "cell_type": "markdown",
   "metadata": {
    "slideshow": {
     "slide_type": "subslide"
    }
   },
   "source": [
    "#### What type is a numpy array?"
   ]
  },
  {
   "cell_type": "code",
   "execution_count": null,
   "metadata": {
    "slideshow": {
     "slide_type": "fragment"
    }
   },
   "outputs": [],
   "source": [
    "type( np.array(a)  )  "
   ]
  },
  {
   "cell_type": "markdown",
   "metadata": {
    "slideshow": {
     "slide_type": "fragment"
    }
   },
   "source": [
    "NDArray stands for N-dimensional Array (1D, 2D, 3D, ... ND)\n",
    "\n",
    "Dr. Zwickl will now digress and show something using his drawing pad."
   ]
  },
  {
   "cell_type": "markdown",
   "metadata": {},
   "source": [
    "# Indices of lists"
   ]
  },
  {
   "cell_type": "markdown",
   "metadata": {
    "slideshow": {
     "slide_type": "slide"
    }
   },
   "source": [
    "#### Which statement returns a list that excludes the first and last elements of `heights`?  \n",
    "`heights = [1, 4, 9, 16, 25, 36]` \n",
    "\n",
    "* A.  `heights[1:4]`   \n",
    "* B.  `heights[1:5]`   \n",
    "* C.  `heights[2:5]`  \n",
    "* D.  `heights[2:6]`  "
   ]
  },
  {
   "cell_type": "markdown",
   "metadata": {
    "slideshow": {
     "slide_type": "slide"
    }
   },
   "source": [
    "#### Which statement returns a list that excludes the first and last elements of `heights`?  \n",
    "`heights = [1, 4, 9, 16, 25, 36]`  "
   ]
  },
  {
   "cell_type": "code",
   "execution_count": 9,
   "metadata": {
    "slideshow": {
     "slide_type": "fragment"
    }
   },
   "outputs": [],
   "source": [
    "heights = [1,4,9,16,25,36]"
   ]
  },
  {
   "cell_type": "code",
   "execution_count": 17,
   "metadata": {
    "slideshow": {
     "slide_type": "fragment"
    }
   },
   "outputs": [
    {
     "data": {
      "text/plain": [
       "[4, 9, 16]"
      ]
     },
     "execution_count": 17,
     "metadata": {},
     "output_type": "execute_result"
    }
   ],
   "source": [
    "# test it here \n",
    "heights[1:-2]"
   ]
  },
  {
   "cell_type": "markdown",
   "metadata": {
    "slideshow": {
     "slide_type": "slide"
    }
   },
   "source": [
    "## Without asking Google or the internet, which team won the most recent Super Bowl in 2020?\n",
    "* A. Buffalo Bills  \n",
    "* B. New England Patriots  \n",
    "* C. Kansas City Chiefs  \n",
    "* D. San Francisco 49ers"
   ]
  },
  {
   "cell_type": "markdown",
   "metadata": {
    "slideshow": {
     "slide_type": "slide"
    }
   },
   "source": [
    "## Breakout room discussion\n",
    "### If you could attend one major event, what would it be? \n",
    "Assume admission, travel, and other logistics are covered. I'm thinking big things, like the World Series, Nobel Prize Ceremony for Physics, Presidential Inauguration, marriage of British royalty, etc. "
   ]
  },
  {
   "cell_type": "markdown",
   "metadata": {
    "slideshow": {
     "slide_type": "slide"
    }
   },
   "source": [
    "# Pandas\n",
    "\n",
    "A few upcoming tutorials will reference Pandas at one point.\n",
    "* There is an DataCamp Tutorial [Intermediate Python for Data Science: Dictionaries and Pandas] (Due around Sept 14/15) (https://campus.datacamp.com/courses/intermediate-python-for-data-science/dictionaries-pandas?ex=1)\n",
    "\n",
    "![Pandas Logo](pandas_logo.png)"
   ]
  },
  {
   "cell_type": "markdown",
   "metadata": {
    "slideshow": {
     "slide_type": "slide"
    }
   },
   "source": [
    "## Big idea: Pandas is awesome for data\n",
    "* A Pandas DataFrame is like a spreadsheet.\n",
    "* Each column can contain a different type of number \n",
    "\n",
    "### Comparing lists, numpy arrays, and pandas DataFrames\n",
    "\n",
    "* **list** - built into Python - good for list of things\n",
    "* **Numpy array** - requires Numpy - good for tables of numbers and numerical calculations\n",
    "* **Pandas DataFrame** - requires Pandas - good for tables of data and analysis\n",
    "\n"
   ]
  },
  {
   "cell_type": "markdown",
   "metadata": {
    "slideshow": {
     "slide_type": "slide"
    }
   },
   "source": [
    "#### Example: Play by Play NFL data from entire 2018-19 season\n",
    "* CSV downloaded from [NFLSavant.com](http://nflsavant.com/about.php)\n",
    "* Look at data as text in JupyterHub \n",
    "* Look at data as spreadsheet in Excel "
   ]
  },
  {
   "cell_type": "code",
   "execution_count": 18,
   "metadata": {
    "slideshow": {
     "slide_type": "fragment"
    }
   },
   "outputs": [],
   "source": [
    "import pandas as pd   # import pandas"
   ]
  },
  {
   "cell_type": "code",
   "execution_count": 19,
   "metadata": {
    "scrolled": true,
    "slideshow": {
     "slide_type": "slide"
    }
   },
   "outputs": [
    {
     "data": {
      "text/html": [
       "<div>\n",
       "<style scoped>\n",
       "    .dataframe tbody tr th:only-of-type {\n",
       "        vertical-align: middle;\n",
       "    }\n",
       "\n",
       "    .dataframe tbody tr th {\n",
       "        vertical-align: top;\n",
       "    }\n",
       "\n",
       "    .dataframe thead th {\n",
       "        text-align: right;\n",
       "    }\n",
       "</style>\n",
       "<table border=\"1\" class=\"dataframe\">\n",
       "  <thead>\n",
       "    <tr style=\"text-align: right;\">\n",
       "      <th></th>\n",
       "      <th>GameId</th>\n",
       "      <th>GameDate</th>\n",
       "      <th>Quarter</th>\n",
       "      <th>Minute</th>\n",
       "      <th>Second</th>\n",
       "      <th>OffenseTeam</th>\n",
       "      <th>DefenseTeam</th>\n",
       "      <th>Down</th>\n",
       "      <th>ToGo</th>\n",
       "      <th>YardLine</th>\n",
       "      <th>...</th>\n",
       "      <th>IsTwoPointConversion</th>\n",
       "      <th>IsTwoPointConversionSuccessful</th>\n",
       "      <th>RushDirection</th>\n",
       "      <th>YardLineFixed</th>\n",
       "      <th>YardLineDirection</th>\n",
       "      <th>IsPenaltyAccepted</th>\n",
       "      <th>PenaltyTeam</th>\n",
       "      <th>IsNoPlay</th>\n",
       "      <th>PenaltyType</th>\n",
       "      <th>PenaltyYards</th>\n",
       "    </tr>\n",
       "  </thead>\n",
       "  <tbody>\n",
       "    <tr>\n",
       "      <th>0</th>\n",
       "      <td>2018090600</td>\n",
       "      <td>2018-09-06</td>\n",
       "      <td>2</td>\n",
       "      <td>6</td>\n",
       "      <td>9</td>\n",
       "      <td>PHI</td>\n",
       "      <td>ATL</td>\n",
       "      <td>0</td>\n",
       "      <td>0</td>\n",
       "      <td>35</td>\n",
       "      <td>...</td>\n",
       "      <td>0</td>\n",
       "      <td>0</td>\n",
       "      <td>NaN</td>\n",
       "      <td>35</td>\n",
       "      <td>OWN</td>\n",
       "      <td>0</td>\n",
       "      <td>NaN</td>\n",
       "      <td>0</td>\n",
       "      <td>NaN</td>\n",
       "      <td>0</td>\n",
       "    </tr>\n",
       "    <tr>\n",
       "      <th>1</th>\n",
       "      <td>2018090600</td>\n",
       "      <td>2018-09-06</td>\n",
       "      <td>2</td>\n",
       "      <td>0</td>\n",
       "      <td>0</td>\n",
       "      <td>NaN</td>\n",
       "      <td>ATL</td>\n",
       "      <td>0</td>\n",
       "      <td>0</td>\n",
       "      <td>0</td>\n",
       "      <td>...</td>\n",
       "      <td>0</td>\n",
       "      <td>0</td>\n",
       "      <td>NaN</td>\n",
       "      <td>0</td>\n",
       "      <td>OWN</td>\n",
       "      <td>0</td>\n",
       "      <td>NaN</td>\n",
       "      <td>0</td>\n",
       "      <td>NaN</td>\n",
       "      <td>0</td>\n",
       "    </tr>\n",
       "    <tr>\n",
       "      <th>2</th>\n",
       "      <td>2018090600</td>\n",
       "      <td>2018-09-06</td>\n",
       "      <td>3</td>\n",
       "      <td>0</td>\n",
       "      <td>0</td>\n",
       "      <td>NaN</td>\n",
       "      <td>ATL</td>\n",
       "      <td>0</td>\n",
       "      <td>0</td>\n",
       "      <td>0</td>\n",
       "      <td>...</td>\n",
       "      <td>0</td>\n",
       "      <td>0</td>\n",
       "      <td>NaN</td>\n",
       "      <td>0</td>\n",
       "      <td>OWN</td>\n",
       "      <td>0</td>\n",
       "      <td>NaN</td>\n",
       "      <td>0</td>\n",
       "      <td>NaN</td>\n",
       "      <td>0</td>\n",
       "    </tr>\n",
       "    <tr>\n",
       "      <th>3</th>\n",
       "      <td>2018090600</td>\n",
       "      <td>2018-09-06</td>\n",
       "      <td>4</td>\n",
       "      <td>2</td>\n",
       "      <td>19</td>\n",
       "      <td>NaN</td>\n",
       "      <td>ATL</td>\n",
       "      <td>0</td>\n",
       "      <td>0</td>\n",
       "      <td>0</td>\n",
       "      <td>...</td>\n",
       "      <td>0</td>\n",
       "      <td>0</td>\n",
       "      <td>NaN</td>\n",
       "      <td>0</td>\n",
       "      <td>OWN</td>\n",
       "      <td>0</td>\n",
       "      <td>NaN</td>\n",
       "      <td>0</td>\n",
       "      <td>NaN</td>\n",
       "      <td>0</td>\n",
       "    </tr>\n",
       "    <tr>\n",
       "      <th>4</th>\n",
       "      <td>2018090600</td>\n",
       "      <td>2018-09-06</td>\n",
       "      <td>4</td>\n",
       "      <td>1</td>\n",
       "      <td>18</td>\n",
       "      <td>NaN</td>\n",
       "      <td>ATL</td>\n",
       "      <td>0</td>\n",
       "      <td>0</td>\n",
       "      <td>0</td>\n",
       "      <td>...</td>\n",
       "      <td>0</td>\n",
       "      <td>0</td>\n",
       "      <td>NaN</td>\n",
       "      <td>0</td>\n",
       "      <td>OWN</td>\n",
       "      <td>0</td>\n",
       "      <td>NaN</td>\n",
       "      <td>0</td>\n",
       "      <td>NaN</td>\n",
       "      <td>0</td>\n",
       "    </tr>\n",
       "    <tr>\n",
       "      <th>...</th>\n",
       "      <td>...</td>\n",
       "      <td>...</td>\n",
       "      <td>...</td>\n",
       "      <td>...</td>\n",
       "      <td>...</td>\n",
       "      <td>...</td>\n",
       "      <td>...</td>\n",
       "      <td>...</td>\n",
       "      <td>...</td>\n",
       "      <td>...</td>\n",
       "      <td>...</td>\n",
       "      <td>...</td>\n",
       "      <td>...</td>\n",
       "      <td>...</td>\n",
       "      <td>...</td>\n",
       "      <td>...</td>\n",
       "      <td>...</td>\n",
       "      <td>...</td>\n",
       "      <td>...</td>\n",
       "      <td>...</td>\n",
       "      <td>...</td>\n",
       "    </tr>\n",
       "    <tr>\n",
       "      <th>45011</th>\n",
       "      <td>2018123015</td>\n",
       "      <td>2018-12-30</td>\n",
       "      <td>4</td>\n",
       "      <td>2</td>\n",
       "      <td>0</td>\n",
       "      <td>ARI</td>\n",
       "      <td>SEA</td>\n",
       "      <td>3</td>\n",
       "      <td>12</td>\n",
       "      <td>63</td>\n",
       "      <td>...</td>\n",
       "      <td>0</td>\n",
       "      <td>0</td>\n",
       "      <td>NaN</td>\n",
       "      <td>37</td>\n",
       "      <td>OPP</td>\n",
       "      <td>0</td>\n",
       "      <td>NaN</td>\n",
       "      <td>0</td>\n",
       "      <td>NaN</td>\n",
       "      <td>0</td>\n",
       "    </tr>\n",
       "    <tr>\n",
       "      <th>45012</th>\n",
       "      <td>2018123015</td>\n",
       "      <td>2018-12-30</td>\n",
       "      <td>4</td>\n",
       "      <td>1</td>\n",
       "      <td>54</td>\n",
       "      <td>ARI</td>\n",
       "      <td>SEA</td>\n",
       "      <td>4</td>\n",
       "      <td>12</td>\n",
       "      <td>63</td>\n",
       "      <td>...</td>\n",
       "      <td>0</td>\n",
       "      <td>0</td>\n",
       "      <td>NaN</td>\n",
       "      <td>37</td>\n",
       "      <td>OPP</td>\n",
       "      <td>0</td>\n",
       "      <td>NaN</td>\n",
       "      <td>0</td>\n",
       "      <td>NaN</td>\n",
       "      <td>0</td>\n",
       "    </tr>\n",
       "    <tr>\n",
       "      <th>45013</th>\n",
       "      <td>2018123015</td>\n",
       "      <td>2018-12-30</td>\n",
       "      <td>4</td>\n",
       "      <td>0</td>\n",
       "      <td>16</td>\n",
       "      <td>SEA</td>\n",
       "      <td>ARI</td>\n",
       "      <td>2</td>\n",
       "      <td>8</td>\n",
       "      <td>77</td>\n",
       "      <td>...</td>\n",
       "      <td>0</td>\n",
       "      <td>0</td>\n",
       "      <td>RIGHT END</td>\n",
       "      <td>23</td>\n",
       "      <td>OPP</td>\n",
       "      <td>0</td>\n",
       "      <td>NaN</td>\n",
       "      <td>0</td>\n",
       "      <td>NaN</td>\n",
       "      <td>0</td>\n",
       "    </tr>\n",
       "    <tr>\n",
       "      <th>45014</th>\n",
       "      <td>2018123015</td>\n",
       "      <td>2018-12-30</td>\n",
       "      <td>4</td>\n",
       "      <td>0</td>\n",
       "      <td>8</td>\n",
       "      <td>SEA</td>\n",
       "      <td>ARI</td>\n",
       "      <td>1</td>\n",
       "      <td>10</td>\n",
       "      <td>88</td>\n",
       "      <td>...</td>\n",
       "      <td>0</td>\n",
       "      <td>0</td>\n",
       "      <td>NaN</td>\n",
       "      <td>12</td>\n",
       "      <td>OPP</td>\n",
       "      <td>0</td>\n",
       "      <td>NaN</td>\n",
       "      <td>0</td>\n",
       "      <td>NaN</td>\n",
       "      <td>0</td>\n",
       "    </tr>\n",
       "    <tr>\n",
       "      <th>45015</th>\n",
       "      <td>2018123015</td>\n",
       "      <td>2018-12-30</td>\n",
       "      <td>4</td>\n",
       "      <td>0</td>\n",
       "      <td>3</td>\n",
       "      <td>SEA</td>\n",
       "      <td>ARI</td>\n",
       "      <td>2</td>\n",
       "      <td>13</td>\n",
       "      <td>85</td>\n",
       "      <td>...</td>\n",
       "      <td>0</td>\n",
       "      <td>0</td>\n",
       "      <td>NaN</td>\n",
       "      <td>15</td>\n",
       "      <td>OPP</td>\n",
       "      <td>0</td>\n",
       "      <td>NaN</td>\n",
       "      <td>0</td>\n",
       "      <td>NaN</td>\n",
       "      <td>0</td>\n",
       "    </tr>\n",
       "  </tbody>\n",
       "</table>\n",
       "<p>45016 rows × 45 columns</p>\n",
       "</div>"
      ],
      "text/plain": [
       "           GameId    GameDate  Quarter  Minute  Second OffenseTeam  \\\n",
       "0      2018090600  2018-09-06        2       6       9         PHI   \n",
       "1      2018090600  2018-09-06        2       0       0         NaN   \n",
       "2      2018090600  2018-09-06        3       0       0         NaN   \n",
       "3      2018090600  2018-09-06        4       2      19         NaN   \n",
       "4      2018090600  2018-09-06        4       1      18         NaN   \n",
       "...           ...         ...      ...     ...     ...         ...   \n",
       "45011  2018123015  2018-12-30        4       2       0         ARI   \n",
       "45012  2018123015  2018-12-30        4       1      54         ARI   \n",
       "45013  2018123015  2018-12-30        4       0      16         SEA   \n",
       "45014  2018123015  2018-12-30        4       0       8         SEA   \n",
       "45015  2018123015  2018-12-30        4       0       3         SEA   \n",
       "\n",
       "      DefenseTeam  Down  ToGo  YardLine  ...  IsTwoPointConversion  \\\n",
       "0             ATL     0     0        35  ...                     0   \n",
       "1             ATL     0     0         0  ...                     0   \n",
       "2             ATL     0     0         0  ...                     0   \n",
       "3             ATL     0     0         0  ...                     0   \n",
       "4             ATL     0     0         0  ...                     0   \n",
       "...           ...   ...   ...       ...  ...                   ...   \n",
       "45011         SEA     3    12        63  ...                     0   \n",
       "45012         SEA     4    12        63  ...                     0   \n",
       "45013         ARI     2     8        77  ...                     0   \n",
       "45014         ARI     1    10        88  ...                     0   \n",
       "45015         ARI     2    13        85  ...                     0   \n",
       "\n",
       "       IsTwoPointConversionSuccessful  RushDirection  YardLineFixed  \\\n",
       "0                                   0            NaN             35   \n",
       "1                                   0            NaN              0   \n",
       "2                                   0            NaN              0   \n",
       "3                                   0            NaN              0   \n",
       "4                                   0            NaN              0   \n",
       "...                               ...            ...            ...   \n",
       "45011                               0            NaN             37   \n",
       "45012                               0            NaN             37   \n",
       "45013                               0      RIGHT END             23   \n",
       "45014                               0            NaN             12   \n",
       "45015                               0            NaN             15   \n",
       "\n",
       "      YardLineDirection  IsPenaltyAccepted  PenaltyTeam  IsNoPlay  \\\n",
       "0                   OWN                  0          NaN         0   \n",
       "1                   OWN                  0          NaN         0   \n",
       "2                   OWN                  0          NaN         0   \n",
       "3                   OWN                  0          NaN         0   \n",
       "4                   OWN                  0          NaN         0   \n",
       "...                 ...                ...          ...       ...   \n",
       "45011               OPP                  0          NaN         0   \n",
       "45012               OPP                  0          NaN         0   \n",
       "45013               OPP                  0          NaN         0   \n",
       "45014               OPP                  0          NaN         0   \n",
       "45015               OPP                  0          NaN         0   \n",
       "\n",
       "       PenaltyType  PenaltyYards  \n",
       "0              NaN             0  \n",
       "1              NaN             0  \n",
       "2              NaN             0  \n",
       "3              NaN             0  \n",
       "4              NaN             0  \n",
       "...            ...           ...  \n",
       "45011          NaN             0  \n",
       "45012          NaN             0  \n",
       "45013          NaN             0  \n",
       "45014          NaN             0  \n",
       "45015          NaN             0  \n",
       "\n",
       "[45016 rows x 45 columns]"
      ]
     },
     "execution_count": 19,
     "metadata": {},
     "output_type": "execute_result"
    }
   ],
   "source": [
    "df = pd.read_csv(\"pbp-2018.csv\")  # read in all the play-by-play data as a Pandas DataFrame\n",
    "df "
   ]
  },
  {
   "cell_type": "code",
   "execution_count": 20,
   "metadata": {
    "slideshow": {
     "slide_type": "slide"
    }
   },
   "outputs": [
    {
     "data": {
      "text/plain": [
       "Index(['GameId', 'GameDate', 'Quarter', 'Minute', 'Second', 'OffenseTeam',\n",
       "       'DefenseTeam', 'Down', 'ToGo', 'YardLine', 'Unnamed: 10',\n",
       "       'SeriesFirstDown', 'Unnamed: 12', 'NextScore', 'Description', 'TeamWin',\n",
       "       'Unnamed: 16', 'Unnamed: 17', 'SeasonYear', 'Yards', 'Formation',\n",
       "       'PlayType', 'IsRush', 'IsPass', 'IsIncomplete', 'IsTouchdown',\n",
       "       'PassType', 'IsSack', 'IsChallenge', 'IsChallengeReversed',\n",
       "       'Challenger', 'IsMeasurement', 'IsInterception', 'IsFumble',\n",
       "       'IsPenalty', 'IsTwoPointConversion', 'IsTwoPointConversionSuccessful',\n",
       "       'RushDirection', 'YardLineFixed', 'YardLineDirection',\n",
       "       'IsPenaltyAccepted', 'PenaltyTeam', 'IsNoPlay', 'PenaltyType',\n",
       "       'PenaltyYards'],\n",
       "      dtype='object')"
      ]
     },
     "execution_count": 20,
     "metadata": {},
     "output_type": "execute_result"
    }
   ],
   "source": [
    "df.columns"
   ]
  },
  {
   "cell_type": "markdown",
   "metadata": {
    "slideshow": {
     "slide_type": "slide"
    }
   },
   "source": [
    "### How many touchdowns in the NFL"
   ]
  },
  {
   "cell_type": "code",
   "execution_count": 21,
   "metadata": {
    "slideshow": {
     "slide_type": "fragment"
    }
   },
   "outputs": [
    {
     "data": {
      "text/plain": [
       "0        0\n",
       "1        0\n",
       "2        0\n",
       "3        0\n",
       "4        0\n",
       "        ..\n",
       "45011    0\n",
       "45012    0\n",
       "45013    0\n",
       "45014    0\n",
       "45015    0\n",
       "Name: IsTouchdown, Length: 45016, dtype: int64"
      ]
     },
     "execution_count": 21,
     "metadata": {},
     "output_type": "execute_result"
    }
   ],
   "source": [
    "df[\"IsTouchdown\"] # pick out the column 1 if touchdown, 0 otherwise"
   ]
  },
  {
   "cell_type": "markdown",
   "metadata": {
    "slideshow": {
     "slide_type": "fragment"
    }
   },
   "source": [
    "Most plays never score a touchdown."
   ]
  },
  {
   "cell_type": "markdown",
   "metadata": {
    "slideshow": {
     "slide_type": "slide"
    }
   },
   "source": [
    "## How many touchdowns were scored in the entire season by all teams?"
   ]
  },
  {
   "cell_type": "code",
   "execution_count": 22,
   "metadata": {
    "slideshow": {
     "slide_type": "fragment"
    }
   },
   "outputs": [
    {
     "data": {
      "text/plain": [
       "1463"
      ]
     },
     "execution_count": 22,
     "metadata": {},
     "output_type": "execute_result"
    }
   ],
   "source": [
    "np.sum( df[\"IsTouchdown\"] )  # add up total number of touchdowns in NFL in 2018"
   ]
  },
  {
   "cell_type": "markdown",
   "metadata": {
    "slideshow": {
     "slide_type": "slide"
    }
   },
   "source": [
    "## Pick out your favorite team: Buffalo Bills"
   ]
  },
  {
   "cell_type": "code",
   "execution_count": 23,
   "metadata": {
    "slideshow": {
     "slide_type": "fragment"
    }
   },
   "outputs": [
    {
     "name": "stdout",
     "output_type": "stream",
     "text": [
      "0        False\n",
      "1        False\n",
      "2        False\n",
      "3        False\n",
      "4        False\n",
      "         ...  \n",
      "45011    False\n",
      "45012    False\n",
      "45013    False\n",
      "45014    False\n",
      "45015    False\n",
      "Name: OffenseTeam, Length: 45016, dtype: bool\n"
     ]
    }
   ],
   "source": [
    "IsBuffOffense = df['OffenseTeam'] == \"BUF\"  # Create an array of True or False values searching for \"BUF\"\n",
    "print(IsBuffOffense)"
   ]
  },
  {
   "cell_type": "code",
   "execution_count": 24,
   "metadata": {
    "slideshow": {
     "slide_type": "slide"
    }
   },
   "outputs": [
    {
     "data": {
      "text/html": [
       "<div>\n",
       "<style scoped>\n",
       "    .dataframe tbody tr th:only-of-type {\n",
       "        vertical-align: middle;\n",
       "    }\n",
       "\n",
       "    .dataframe tbody tr th {\n",
       "        vertical-align: top;\n",
       "    }\n",
       "\n",
       "    .dataframe thead th {\n",
       "        text-align: right;\n",
       "    }\n",
       "</style>\n",
       "<table border=\"1\" class=\"dataframe\">\n",
       "  <thead>\n",
       "    <tr style=\"text-align: right;\">\n",
       "      <th></th>\n",
       "      <th>GameId</th>\n",
       "      <th>GameDate</th>\n",
       "      <th>Quarter</th>\n",
       "      <th>Minute</th>\n",
       "      <th>Second</th>\n",
       "      <th>OffenseTeam</th>\n",
       "      <th>DefenseTeam</th>\n",
       "      <th>Down</th>\n",
       "      <th>ToGo</th>\n",
       "      <th>YardLine</th>\n",
       "      <th>...</th>\n",
       "      <th>IsTwoPointConversion</th>\n",
       "      <th>IsTwoPointConversionSuccessful</th>\n",
       "      <th>RushDirection</th>\n",
       "      <th>YardLineFixed</th>\n",
       "      <th>YardLineDirection</th>\n",
       "      <th>IsPenaltyAccepted</th>\n",
       "      <th>PenaltyTeam</th>\n",
       "      <th>IsNoPlay</th>\n",
       "      <th>PenaltyType</th>\n",
       "      <th>PenaltyYards</th>\n",
       "    </tr>\n",
       "  </thead>\n",
       "  <tbody>\n",
       "    <tr>\n",
       "      <th>42</th>\n",
       "      <td>2018091601</td>\n",
       "      <td>2018-09-16</td>\n",
       "      <td>1</td>\n",
       "      <td>11</td>\n",
       "      <td>32</td>\n",
       "      <td>BUF</td>\n",
       "      <td>LAC</td>\n",
       "      <td>3</td>\n",
       "      <td>7</td>\n",
       "      <td>17</td>\n",
       "      <td>...</td>\n",
       "      <td>0</td>\n",
       "      <td>0</td>\n",
       "      <td>NaN</td>\n",
       "      <td>17</td>\n",
       "      <td>OWN</td>\n",
       "      <td>0</td>\n",
       "      <td>NaN</td>\n",
       "      <td>0</td>\n",
       "      <td>NaN</td>\n",
       "      <td>0</td>\n",
       "    </tr>\n",
       "    <tr>\n",
       "      <th>43</th>\n",
       "      <td>2018091601</td>\n",
       "      <td>2018-09-16</td>\n",
       "      <td>3</td>\n",
       "      <td>11</td>\n",
       "      <td>8</td>\n",
       "      <td>BUF</td>\n",
       "      <td>LAC</td>\n",
       "      <td>1</td>\n",
       "      <td>1</td>\n",
       "      <td>99</td>\n",
       "      <td>...</td>\n",
       "      <td>0</td>\n",
       "      <td>0</td>\n",
       "      <td>CENTER</td>\n",
       "      <td>1</td>\n",
       "      <td>OPP</td>\n",
       "      <td>0</td>\n",
       "      <td>NaN</td>\n",
       "      <td>0</td>\n",
       "      <td>NaN</td>\n",
       "      <td>0</td>\n",
       "    </tr>\n",
       "    <tr>\n",
       "      <th>381</th>\n",
       "      <td>2018102900</td>\n",
       "      <td>2018-10-29</td>\n",
       "      <td>1</td>\n",
       "      <td>10</td>\n",
       "      <td>20</td>\n",
       "      <td>BUF</td>\n",
       "      <td>NE</td>\n",
       "      <td>2</td>\n",
       "      <td>9</td>\n",
       "      <td>57</td>\n",
       "      <td>...</td>\n",
       "      <td>0</td>\n",
       "      <td>0</td>\n",
       "      <td>NaN</td>\n",
       "      <td>43</td>\n",
       "      <td>OPP</td>\n",
       "      <td>0</td>\n",
       "      <td>NaN</td>\n",
       "      <td>0</td>\n",
       "      <td>NaN</td>\n",
       "      <td>0</td>\n",
       "    </tr>\n",
       "    <tr>\n",
       "      <th>390</th>\n",
       "      <td>2018110401</td>\n",
       "      <td>2018-11-04</td>\n",
       "      <td>2</td>\n",
       "      <td>3</td>\n",
       "      <td>10</td>\n",
       "      <td>BUF</td>\n",
       "      <td>CHI</td>\n",
       "      <td>1</td>\n",
       "      <td>22</td>\n",
       "      <td>13</td>\n",
       "      <td>...</td>\n",
       "      <td>0</td>\n",
       "      <td>0</td>\n",
       "      <td>NaN</td>\n",
       "      <td>13</td>\n",
       "      <td>OWN</td>\n",
       "      <td>0</td>\n",
       "      <td>NaN</td>\n",
       "      <td>0</td>\n",
       "      <td>NaN</td>\n",
       "      <td>0</td>\n",
       "    </tr>\n",
       "    <tr>\n",
       "      <th>392</th>\n",
       "      <td>2018110401</td>\n",
       "      <td>2018-11-04</td>\n",
       "      <td>4</td>\n",
       "      <td>6</td>\n",
       "      <td>22</td>\n",
       "      <td>BUF</td>\n",
       "      <td>CHI</td>\n",
       "      <td>2</td>\n",
       "      <td>1</td>\n",
       "      <td>99</td>\n",
       "      <td>...</td>\n",
       "      <td>0</td>\n",
       "      <td>0</td>\n",
       "      <td>CENTER</td>\n",
       "      <td>1</td>\n",
       "      <td>OPP</td>\n",
       "      <td>0</td>\n",
       "      <td>NaN</td>\n",
       "      <td>0</td>\n",
       "      <td>NaN</td>\n",
       "      <td>0</td>\n",
       "    </tr>\n",
       "    <tr>\n",
       "      <th>...</th>\n",
       "      <td>...</td>\n",
       "      <td>...</td>\n",
       "      <td>...</td>\n",
       "      <td>...</td>\n",
       "      <td>...</td>\n",
       "      <td>...</td>\n",
       "      <td>...</td>\n",
       "      <td>...</td>\n",
       "      <td>...</td>\n",
       "      <td>...</td>\n",
       "      <td>...</td>\n",
       "      <td>...</td>\n",
       "      <td>...</td>\n",
       "      <td>...</td>\n",
       "      <td>...</td>\n",
       "      <td>...</td>\n",
       "      <td>...</td>\n",
       "      <td>...</td>\n",
       "      <td>...</td>\n",
       "      <td>...</td>\n",
       "      <td>...</td>\n",
       "    </tr>\n",
       "    <tr>\n",
       "      <th>44135</th>\n",
       "      <td>2018123001</td>\n",
       "      <td>2018-12-30</td>\n",
       "      <td>4</td>\n",
       "      <td>4</td>\n",
       "      <td>4</td>\n",
       "      <td>BUF</td>\n",
       "      <td>MIA</td>\n",
       "      <td>2</td>\n",
       "      <td>1</td>\n",
       "      <td>69</td>\n",
       "      <td>...</td>\n",
       "      <td>0</td>\n",
       "      <td>0</td>\n",
       "      <td>CENTER</td>\n",
       "      <td>31</td>\n",
       "      <td>OPP</td>\n",
       "      <td>0</td>\n",
       "      <td>NaN</td>\n",
       "      <td>0</td>\n",
       "      <td>NaN</td>\n",
       "      <td>0</td>\n",
       "    </tr>\n",
       "    <tr>\n",
       "      <th>44136</th>\n",
       "      <td>2018123001</td>\n",
       "      <td>2018-12-30</td>\n",
       "      <td>4</td>\n",
       "      <td>3</td>\n",
       "      <td>22</td>\n",
       "      <td>BUF</td>\n",
       "      <td>MIA</td>\n",
       "      <td>1</td>\n",
       "      <td>10</td>\n",
       "      <td>70</td>\n",
       "      <td>...</td>\n",
       "      <td>0</td>\n",
       "      <td>0</td>\n",
       "      <td>RIGHT GUARD</td>\n",
       "      <td>30</td>\n",
       "      <td>OPP</td>\n",
       "      <td>0</td>\n",
       "      <td>NaN</td>\n",
       "      <td>0</td>\n",
       "      <td>NaN</td>\n",
       "      <td>0</td>\n",
       "    </tr>\n",
       "    <tr>\n",
       "      <th>44137</th>\n",
       "      <td>2018123001</td>\n",
       "      <td>2018-12-30</td>\n",
       "      <td>4</td>\n",
       "      <td>2</td>\n",
       "      <td>40</td>\n",
       "      <td>BUF</td>\n",
       "      <td>MIA</td>\n",
       "      <td>2</td>\n",
       "      <td>4</td>\n",
       "      <td>76</td>\n",
       "      <td>...</td>\n",
       "      <td>0</td>\n",
       "      <td>0</td>\n",
       "      <td>CENTER</td>\n",
       "      <td>24</td>\n",
       "      <td>OPP</td>\n",
       "      <td>0</td>\n",
       "      <td>NaN</td>\n",
       "      <td>0</td>\n",
       "      <td>NaN</td>\n",
       "      <td>0</td>\n",
       "    </tr>\n",
       "    <tr>\n",
       "      <th>44138</th>\n",
       "      <td>2018123001</td>\n",
       "      <td>2018-12-30</td>\n",
       "      <td>4</td>\n",
       "      <td>2</td>\n",
       "      <td>0</td>\n",
       "      <td>BUF</td>\n",
       "      <td>MIA</td>\n",
       "      <td>3</td>\n",
       "      <td>3</td>\n",
       "      <td>77</td>\n",
       "      <td>...</td>\n",
       "      <td>0</td>\n",
       "      <td>0</td>\n",
       "      <td>NaN</td>\n",
       "      <td>23</td>\n",
       "      <td>OPP</td>\n",
       "      <td>0</td>\n",
       "      <td>NaN</td>\n",
       "      <td>0</td>\n",
       "      <td>NaN</td>\n",
       "      <td>0</td>\n",
       "    </tr>\n",
       "    <tr>\n",
       "      <th>44139</th>\n",
       "      <td>2018123001</td>\n",
       "      <td>2018-12-30</td>\n",
       "      <td>4</td>\n",
       "      <td>1</td>\n",
       "      <td>21</td>\n",
       "      <td>BUF</td>\n",
       "      <td>MIA</td>\n",
       "      <td>4</td>\n",
       "      <td>4</td>\n",
       "      <td>76</td>\n",
       "      <td>...</td>\n",
       "      <td>0</td>\n",
       "      <td>0</td>\n",
       "      <td>NaN</td>\n",
       "      <td>24</td>\n",
       "      <td>OPP</td>\n",
       "      <td>0</td>\n",
       "      <td>NaN</td>\n",
       "      <td>0</td>\n",
       "      <td>NaN</td>\n",
       "      <td>0</td>\n",
       "    </tr>\n",
       "  </tbody>\n",
       "</table>\n",
       "<p>1295 rows × 45 columns</p>\n",
       "</div>"
      ],
      "text/plain": [
       "           GameId    GameDate  Quarter  Minute  Second OffenseTeam  \\\n",
       "42     2018091601  2018-09-16        1      11      32         BUF   \n",
       "43     2018091601  2018-09-16        3      11       8         BUF   \n",
       "381    2018102900  2018-10-29        1      10      20         BUF   \n",
       "390    2018110401  2018-11-04        2       3      10         BUF   \n",
       "392    2018110401  2018-11-04        4       6      22         BUF   \n",
       "...           ...         ...      ...     ...     ...         ...   \n",
       "44135  2018123001  2018-12-30        4       4       4         BUF   \n",
       "44136  2018123001  2018-12-30        4       3      22         BUF   \n",
       "44137  2018123001  2018-12-30        4       2      40         BUF   \n",
       "44138  2018123001  2018-12-30        4       2       0         BUF   \n",
       "44139  2018123001  2018-12-30        4       1      21         BUF   \n",
       "\n",
       "      DefenseTeam  Down  ToGo  YardLine  ...  IsTwoPointConversion  \\\n",
       "42            LAC     3     7        17  ...                     0   \n",
       "43            LAC     1     1        99  ...                     0   \n",
       "381            NE     2     9        57  ...                     0   \n",
       "390           CHI     1    22        13  ...                     0   \n",
       "392           CHI     2     1        99  ...                     0   \n",
       "...           ...   ...   ...       ...  ...                   ...   \n",
       "44135         MIA     2     1        69  ...                     0   \n",
       "44136         MIA     1    10        70  ...                     0   \n",
       "44137         MIA     2     4        76  ...                     0   \n",
       "44138         MIA     3     3        77  ...                     0   \n",
       "44139         MIA     4     4        76  ...                     0   \n",
       "\n",
       "       IsTwoPointConversionSuccessful  RushDirection  YardLineFixed  \\\n",
       "42                                  0            NaN             17   \n",
       "43                                  0         CENTER              1   \n",
       "381                                 0            NaN             43   \n",
       "390                                 0            NaN             13   \n",
       "392                                 0         CENTER              1   \n",
       "...                               ...            ...            ...   \n",
       "44135                               0         CENTER             31   \n",
       "44136                               0    RIGHT GUARD             30   \n",
       "44137                               0         CENTER             24   \n",
       "44138                               0            NaN             23   \n",
       "44139                               0            NaN             24   \n",
       "\n",
       "      YardLineDirection  IsPenaltyAccepted  PenaltyTeam  IsNoPlay  \\\n",
       "42                  OWN                  0          NaN         0   \n",
       "43                  OPP                  0          NaN         0   \n",
       "381                 OPP                  0          NaN         0   \n",
       "390                 OWN                  0          NaN         0   \n",
       "392                 OPP                  0          NaN         0   \n",
       "...                 ...                ...          ...       ...   \n",
       "44135               OPP                  0          NaN         0   \n",
       "44136               OPP                  0          NaN         0   \n",
       "44137               OPP                  0          NaN         0   \n",
       "44138               OPP                  0          NaN         0   \n",
       "44139               OPP                  0          NaN         0   \n",
       "\n",
       "       PenaltyType  PenaltyYards  \n",
       "42             NaN             0  \n",
       "43             NaN             0  \n",
       "381            NaN             0  \n",
       "390            NaN             0  \n",
       "392            NaN             0  \n",
       "...            ...           ...  \n",
       "44135          NaN             0  \n",
       "44136          NaN             0  \n",
       "44137          NaN             0  \n",
       "44138          NaN             0  \n",
       "44139          NaN             0  \n",
       "\n",
       "[1295 rows x 45 columns]"
      ]
     },
     "execution_count": 24,
     "metadata": {},
     "output_type": "execute_result"
    }
   ],
   "source": [
    "BuffOffense = df[IsBuffOffense] # picks a subset of plays where Buffalo was on offense\n",
    "BuffOffense"
   ]
  },
  {
   "cell_type": "markdown",
   "metadata": {
    "slideshow": {
     "slide_type": "slide"
    }
   },
   "source": [
    "## How many touchdowns did the Bills score?"
   ]
  },
  {
   "cell_type": "code",
   "execution_count": 25,
   "metadata": {
    "slideshow": {
     "slide_type": "fragment"
    }
   },
   "outputs": [
    {
     "data": {
      "text/plain": [
       "37"
      ]
     },
     "execution_count": 25,
     "metadata": {},
     "output_type": "execute_result"
    }
   ],
   "source": [
    "np.sum(BuffOffense[\"IsTouchdown\"])  # sum up all touchdown plays"
   ]
  },
  {
   "cell_type": "markdown",
   "metadata": {
    "slideshow": {
     "slide_type": "slide"
    }
   },
   "source": [
    "## Table of NFL Touchdowns for all teams"
   ]
  },
  {
   "cell_type": "code",
   "execution_count": 26,
   "metadata": {
    "slideshow": {
     "slide_type": "fragment"
    }
   },
   "outputs": [
    {
     "data": {
      "text/html": [
       "<div>\n",
       "<style scoped>\n",
       "    .dataframe tbody tr th:only-of-type {\n",
       "        vertical-align: middle;\n",
       "    }\n",
       "\n",
       "    .dataframe tbody tr th {\n",
       "        vertical-align: top;\n",
       "    }\n",
       "\n",
       "    .dataframe thead th {\n",
       "        text-align: right;\n",
       "    }\n",
       "</style>\n",
       "<table border=\"1\" class=\"dataframe\">\n",
       "  <thead>\n",
       "    <tr style=\"text-align: right;\">\n",
       "      <th>IsTouchdown</th>\n",
       "      <th>0</th>\n",
       "      <th>1</th>\n",
       "    </tr>\n",
       "    <tr>\n",
       "      <th>OffenseTeam</th>\n",
       "      <th></th>\n",
       "      <th></th>\n",
       "    </tr>\n",
       "  </thead>\n",
       "  <tbody>\n",
       "    <tr>\n",
       "      <th>ARI</th>\n",
       "      <td>1132</td>\n",
       "      <td>35</td>\n",
       "    </tr>\n",
       "    <tr>\n",
       "      <th>ATL</th>\n",
       "      <td>1253</td>\n",
       "      <td>53</td>\n",
       "    </tr>\n",
       "    <tr>\n",
       "      <th>BAL</th>\n",
       "      <td>1339</td>\n",
       "      <td>41</td>\n",
       "    </tr>\n",
       "    <tr>\n",
       "      <th>BUF</th>\n",
       "      <td>1258</td>\n",
       "      <td>37</td>\n",
       "    </tr>\n",
       "    <tr>\n",
       "      <th>CAR</th>\n",
       "      <td>1241</td>\n",
       "      <td>51</td>\n",
       "    </tr>\n",
       "    <tr>\n",
       "      <th>CHI</th>\n",
       "      <td>1284</td>\n",
       "      <td>51</td>\n",
       "    </tr>\n",
       "    <tr>\n",
       "      <th>CIN</th>\n",
       "      <td>1211</td>\n",
       "      <td>44</td>\n",
       "    </tr>\n",
       "    <tr>\n",
       "      <th>CLE</th>\n",
       "      <td>1284</td>\n",
       "      <td>48</td>\n",
       "    </tr>\n",
       "    <tr>\n",
       "      <th>DAL</th>\n",
       "      <td>1270</td>\n",
       "      <td>38</td>\n",
       "    </tr>\n",
       "    <tr>\n",
       "      <th>DEN</th>\n",
       "      <td>1275</td>\n",
       "      <td>44</td>\n",
       "    </tr>\n",
       "    <tr>\n",
       "      <th>DET</th>\n",
       "      <td>1268</td>\n",
       "      <td>43</td>\n",
       "    </tr>\n",
       "    <tr>\n",
       "      <th>GB</th>\n",
       "      <td>1289</td>\n",
       "      <td>46</td>\n",
       "    </tr>\n",
       "    <tr>\n",
       "      <th>HOU</th>\n",
       "      <td>1331</td>\n",
       "      <td>42</td>\n",
       "    </tr>\n",
       "    <tr>\n",
       "      <th>IND</th>\n",
       "      <td>1330</td>\n",
       "      <td>59</td>\n",
       "    </tr>\n",
       "    <tr>\n",
       "      <th>JAX</th>\n",
       "      <td>1237</td>\n",
       "      <td>27</td>\n",
       "    </tr>\n",
       "    <tr>\n",
       "      <th>KC</th>\n",
       "      <td>1269</td>\n",
       "      <td>70</td>\n",
       "    </tr>\n",
       "    <tr>\n",
       "      <th>LA</th>\n",
       "      <td>1320</td>\n",
       "      <td>59</td>\n",
       "    </tr>\n",
       "    <tr>\n",
       "      <th>LAC</th>\n",
       "      <td>1115</td>\n",
       "      <td>51</td>\n",
       "    </tr>\n",
       "    <tr>\n",
       "      <th>MIA</th>\n",
       "      <td>1125</td>\n",
       "      <td>38</td>\n",
       "    </tr>\n",
       "    <tr>\n",
       "      <th>MIN</th>\n",
       "      <td>1249</td>\n",
       "      <td>46</td>\n",
       "    </tr>\n",
       "    <tr>\n",
       "      <th>NE</th>\n",
       "      <td>1337</td>\n",
       "      <td>49</td>\n",
       "    </tr>\n",
       "    <tr>\n",
       "      <th>NO</th>\n",
       "      <td>1247</td>\n",
       "      <td>63</td>\n",
       "    </tr>\n",
       "    <tr>\n",
       "      <th>NYG</th>\n",
       "      <td>1245</td>\n",
       "      <td>38</td>\n",
       "    </tr>\n",
       "    <tr>\n",
       "      <th>NYJ</th>\n",
       "      <td>1233</td>\n",
       "      <td>33</td>\n",
       "    </tr>\n",
       "    <tr>\n",
       "      <th>OAK</th>\n",
       "      <td>1248</td>\n",
       "      <td>33</td>\n",
       "    </tr>\n",
       "    <tr>\n",
       "      <th>PHI</th>\n",
       "      <td>1288</td>\n",
       "      <td>45</td>\n",
       "    </tr>\n",
       "    <tr>\n",
       "      <th>PIT</th>\n",
       "      <td>1296</td>\n",
       "      <td>60</td>\n",
       "    </tr>\n",
       "    <tr>\n",
       "      <th>SEA</th>\n",
       "      <td>1281</td>\n",
       "      <td>58</td>\n",
       "    </tr>\n",
       "    <tr>\n",
       "      <th>SF</th>\n",
       "      <td>1264</td>\n",
       "      <td>41</td>\n",
       "    </tr>\n",
       "    <tr>\n",
       "      <th>TB</th>\n",
       "      <td>1308</td>\n",
       "      <td>55</td>\n",
       "    </tr>\n",
       "    <tr>\n",
       "      <th>TEN</th>\n",
       "      <td>1121</td>\n",
       "      <td>35</td>\n",
       "    </tr>\n",
       "    <tr>\n",
       "      <th>WAS</th>\n",
       "      <td>1167</td>\n",
       "      <td>30</td>\n",
       "    </tr>\n",
       "  </tbody>\n",
       "</table>\n",
       "</div>"
      ],
      "text/plain": [
       "IsTouchdown     0   1\n",
       "OffenseTeam          \n",
       "ARI          1132  35\n",
       "ATL          1253  53\n",
       "BAL          1339  41\n",
       "BUF          1258  37\n",
       "CAR          1241  51\n",
       "CHI          1284  51\n",
       "CIN          1211  44\n",
       "CLE          1284  48\n",
       "DAL          1270  38\n",
       "DEN          1275  44\n",
       "DET          1268  43\n",
       "GB           1289  46\n",
       "HOU          1331  42\n",
       "IND          1330  59\n",
       "JAX          1237  27\n",
       "KC           1269  70\n",
       "LA           1320  59\n",
       "LAC          1115  51\n",
       "MIA          1125  38\n",
       "MIN          1249  46\n",
       "NE           1337  49\n",
       "NO           1247  63\n",
       "NYG          1245  38\n",
       "NYJ          1233  33\n",
       "OAK          1248  33\n",
       "PHI          1288  45\n",
       "PIT          1296  60\n",
       "SEA          1281  58\n",
       "SF           1264  41\n",
       "TB           1308  55\n",
       "TEN          1121  35\n",
       "WAS          1167  30"
      ]
     },
     "execution_count": 26,
     "metadata": {},
     "output_type": "execute_result"
    }
   ],
   "source": [
    "TDtable = pd.crosstab(df[\"OffenseTeam\"], df[\"IsTouchdown\"])\n",
    "TDtable"
   ]
  },
  {
   "cell_type": "code",
   "execution_count": 27,
   "metadata": {
    "slideshow": {
     "slide_type": "slide"
    }
   },
   "outputs": [
    {
     "data": {
      "text/plain": [
       "OffenseTeam\n",
       "JAX    27\n",
       "WAS    30\n",
       "OAK    33\n",
       "NYJ    33\n",
       "TEN    35\n",
       "ARI    35\n",
       "BUF    37\n",
       "MIA    38\n",
       "DAL    38\n",
       "NYG    38\n",
       "SF     41\n",
       "BAL    41\n",
       "HOU    42\n",
       "DET    43\n",
       "CIN    44\n",
       "DEN    44\n",
       "PHI    45\n",
       "MIN    46\n",
       "GB     46\n",
       "CLE    48\n",
       "NE     49\n",
       "LAC    51\n",
       "CHI    51\n",
       "CAR    51\n",
       "ATL    53\n",
       "TB     55\n",
       "SEA    58\n",
       "IND    59\n",
       "LA     59\n",
       "PIT    60\n",
       "NO     63\n",
       "KC     70\n",
       "Name: 1, dtype: int64"
      ]
     },
     "execution_count": 27,
     "metadata": {},
     "output_type": "execute_result"
    }
   ],
   "source": [
    "TDtable[1].sort_values()  # pick out the 2nd column (index = 1), sort the rows "
   ]
  },
  {
   "cell_type": "code",
   "execution_count": 28,
   "metadata": {
    "slideshow": {
     "slide_type": "slide"
    }
   },
   "outputs": [],
   "source": [
    "TDsorted = TDtable[1].sort_values() #"
   ]
  },
  {
   "cell_type": "code",
   "execution_count": 29,
   "metadata": {
    "scrolled": true,
    "slideshow": {
     "slide_type": "slide"
    }
   },
   "outputs": [
    {
     "data": {
      "text/plain": [
       "<AxesSubplot:xlabel='OffenseTeam'>"
      ]
     },
     "execution_count": 29,
     "metadata": {},
     "output_type": "execute_result"
    },
    {
     "data": {
      "image/png": "[encoded data removed]",
      "text/plain": [
       "<Figure size 432x288 with 1 Axes>"
      ]
     },
     "metadata": {
      "needs_background": "light"
     },
     "output_type": "display_data"
    }
   ],
   "source": [
    "TDsorted.plot.bar()"
   ]
  },
  {
   "cell_type": "markdown",
   "metadata": {
    "slideshow": {
     "slide_type": "slide"
    }
   },
   "source": [
    "## Defining your own functions\n",
    "A function is a reusable portion of code than can be called whenever you need it. Functions are great for these common scenarios\n",
    "1. Repetative procedures\n",
    "1. Mathematical functions that you want to include in a Python program"
   ]
  },
  {
   "cell_type": "markdown",
   "metadata": {
    "slideshow": {
     "slide_type": "slide"
    }
   },
   "source": [
    "Functions take **input** arguments and **return** an output. \n",
    "\n",
    "    def f(input1, input2, input3,...) :\n",
    "        \"\"\" Put description of the function here \"\"\"\n",
    "        \n",
    "        # do a bunch of stuff in the middle\n",
    "        \n",
    "        output = ...       # calculate the output\n",
    "        \n",
    "        return output      #return the output"
   ]
  },
  {
   "cell_type": "markdown",
   "metadata": {
    "slideshow": {
     "slide_type": "slide"
    }
   },
   "source": [
    "#### For example, the mathematical function \n",
    "$$ f(x,y) = 3x + 5y^2  $$  \n",
    "could be expressed as a Python function as follows   \n",
    "\n",
    "    def f(x, y) :\n",
    "        \"\"\" apply the function f(x,y) \"\"\"\n",
    "        result = 3*x + 5*y**2\n",
    "        return result"
   ]
  },
  {
   "cell_type": "code",
   "execution_count": 30,
   "metadata": {
    "slideshow": {
     "slide_type": "fragment"
    }
   },
   "outputs": [],
   "source": [
    "# type the function here\n",
    "def f(x,y) :\n",
    "    \"\"\" Description of function \"\"\"\n",
    "    result = 3 * x + 5 * y**2\n",
    "    return result\n",
    "\n"
   ]
  },
  {
   "cell_type": "code",
   "execution_count": 32,
   "metadata": {
    "slideshow": {
     "slide_type": "fragment"
    }
   },
   "outputs": [
    {
     "data": {
      "text/plain": [
       "23"
      ]
     },
     "execution_count": 32,
     "metadata": {},
     "output_type": "execute_result"
    }
   ],
   "source": [
    "# Try computing f(x,y) for particular values of f\n",
    "f(1,2)"
   ]
  },
  {
   "cell_type": "markdown",
   "metadata": {
    "slideshow": {
     "slide_type": "slide"
    }
   },
   "source": [
    "### In lab next week: Defining and plotting your own functions (PS2B Tasks 3-8)\n",
    "A ball is thrown at an angle $\\theta$ above the horizontal with an initial speed of $v_0$. Neglecting air resistance, the motion of this ball can be described by the following two kinematic equations which you know and love:\n",
    "$$ x = x_0 + v_{0,x}t$$\n",
    "$$ y = y_0 + v_{0,y}t + \\frac{1}{2}a_y t^2$$\n",
    "\n",
    "These equations could be converted to functions, as would be very helpful for the QBasic Gorillas game. It was the first non-educational game Dr. Zwickl played on a PC [QBasic Gorillas Video](https://youtu.be/lyBD0X81tjk)."
   ]
  },
  {
   "cell_type": "markdown",
   "metadata": {
    "slideshow": {
     "slide_type": "slide"
    }
   },
   "source": [
    "### Goal: Create a visualization showing how simple harmonic motion depends on the various parameters.\n",
    "\n",
    "This is a perfect opportunity to define one or more functions \n",
    "* Define a function `x_SHM` to compute SHM displacement\n",
    "$$x(t) = A \\cos\\left( \\frac{2\\pi}{T} t + \\phi \\right)$$\n",
    "* Define a function `plot_SHM` that **creates a plot** of simple harmonic motion.\n",
    "\n",
    "In your breakout group discuss, what would be some helpful inputs for this function that visualizes simple harmonic motion."
   ]
  },
  {
   "cell_type": "code",
   "execution_count": 36,
   "metadata": {
    "slideshow": {
     "slide_type": "slide"
    }
   },
   "outputs": [],
   "source": [
    "# define the plot_SHM function here\n",
    "x_SHM(0,0,1,0)\n",
    "\n",
    "def plot_SHM(A, T, phi, t0, tmax) :\n",
    "    t = np.linspace(t0, tmax, 100)\n",
    "    x = x_SHM(t, A, T, phi)\n",
    "    plt.plot(t,x)\n",
    "    plt.xlabel(\"Time (s)\")\n",
    "    plt.ylabel(\"Displacement (m)\")"
   ]
  },
  {
   "cell_type": "code",
   "execution_count": 38,
   "metadata": {},
   "outputs": [
    {
     "data": {
      "image/png": "[encoded data removed]",
      "text/plain": [
       "<Figure size 432x288 with 1 Axes>"
      ]
     },
     "metadata": {
      "needs_background": "light"
     },
     "output_type": "display_data"
    }
   ],
   "source": [
    "plot_SHM(0.1, 0.5, 0, 0, 1.5)\n",
    "plot_SHM(0.1, 0.5, np.pi/2, 0, 1.5)\n"
   ]
  },
  {
   "cell_type": "code",
   "execution_count": null,
   "metadata": {
    "slideshow": {
     "slide_type": "slide"
    }
   },
   "outputs": [],
   "source": [
    "# let's test the show with numerical inputs\n",
    "\n",
    "# or define the inputs first, and use variables as inputs"
   ]
  },
  {
   "cell_type": "code",
   "execution_count": null,
   "metadata": {},
   "outputs": [],
   "source": []
  }
 ],
 "metadata": {
  "celltoolbar": "Slideshow",
  "kernelspec": {
   "display_name": "Python 3",
   "language": "python",
   "name": "python3"
  },
  "language_info": {
   "codemirror_mode": {
    "name": "ipython",
    "version": 3
   },
   "file_extension": ".py",
   "mimetype": "text/x-python",
   "name": "python",
   "nbconvert_exporter": "python",
   "pygments_lexer": "ipython3",
   "version": "3.6.9"
  }
 },
 "nbformat": 4,
 "nbformat_minor": 2
}
