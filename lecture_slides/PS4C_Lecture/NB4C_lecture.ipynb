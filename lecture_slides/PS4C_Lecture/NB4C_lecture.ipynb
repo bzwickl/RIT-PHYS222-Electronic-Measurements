{
 "cells": [
  {
   "cell_type": "markdown",
   "metadata": {
    "slideshow": {
     "slide_type": "slide"
    }
   },
   "source": [
    "# PHYS 225\n",
    "## Intro to Computational Physics\n",
    "### 9-11-2020"
   ]
  },
  {
   "cell_type": "markdown",
   "metadata": {
    "slideshow": {
     "slide_type": "slide"
    }
   },
   "source": [
    "# Outline\n",
    "\n",
    "* Review loops\n",
    "* Scope, local and global variables\n",
    "* Using/calling functions vs rewriting functions\n",
    "* Smartphone functions\n"
   ]
  },
  {
   "cell_type": "markdown",
   "metadata": {
    "slideshow": {
     "slide_type": "slide"
    }
   },
   "source": [
    "## `for` loops\n",
    "\n",
    "    for var in sequence :\n",
    "        expression  # series of steps or calculations you want to repeat\n",
    "        \n",
    "*For each `var` in `sequence`, execute `expression`*"
   ]
  },
  {
   "cell_type": "markdown",
   "metadata": {
    "slideshow": {
     "slide_type": "notes"
    }
   },
   "source": [
    "Clicker question slides adapted from Cynthia Taylor for the CS 150 course at Oberlin College.\n",
    "This work is licensed under a Creative Commons Attribution-NonCommercial-ShareAlike 4.0 International License."
   ]
  },
  {
   "cell_type": "markdown",
   "metadata": {
    "slideshow": {
     "slide_type": "slide"
    }
   },
   "source": [
    "![Slide 1 on For Loops](Slide1.PNG)"
   ]
  },
  {
   "cell_type": "markdown",
   "metadata": {
    "slideshow": {
     "slide_type": "slide"
    }
   },
   "source": [
    "![Slide 2 on For Loops](Slide2.PNG)"
   ]
  },
  {
   "cell_type": "code",
   "execution_count": 37,
   "metadata": {
    "slideshow": {
     "slide_type": "subslide"
    }
   },
   "outputs": [
    {
     "name": "stdout",
     "output_type": "stream",
     "text": [
      "5\n",
      "5\n"
     ]
    }
   ],
   "source": [
    "n = 6\n",
    "for i in range(i,n) :\n",
    "    print(i)\n",
    "    \n",
    "print(i)"
   ]
  },
  {
   "cell_type": "markdown",
   "metadata": {
    "slideshow": {
     "slide_type": "slide"
    }
   },
   "source": [
    "![Slide 3 on For Loops](Slide3.PNG)"
   ]
  },
  {
   "cell_type": "code",
   "execution_count": 38,
   "metadata": {
    "slideshow": {
     "slide_type": "subslide"
    }
   },
   "outputs": [
    {
     "name": "stdout",
     "output_type": "stream",
     "text": [
      "1 1\n",
      "2 3\n",
      "3 6\n",
      "4 10\n"
     ]
    }
   ],
   "source": [
    "sum = 0\n",
    "for i in range(1,5) :\n",
    "    sum = sum + i\n",
    "    print(i, sum)"
   ]
  },
  {
   "cell_type": "markdown",
   "metadata": {
    "slideshow": {
     "slide_type": "slide"
    }
   },
   "source": [
    "![Slide 4 on For Loops](Slide4.PNG)"
   ]
  },
  {
   "cell_type": "code",
   "execution_count": 40,
   "metadata": {
    "slideshow": {
     "slide_type": "subslide"
    }
   },
   "outputs": [
    {
     "name": "stdout",
     "output_type": "stream",
     "text": [
      "1 4 2 6 3 6 6\n"
     ]
    }
   ],
   "source": [
    "n = 4\n",
    "for i in range (1,n) :\n",
    "    print(i, n, end=' ')  # the end=' ' puts a space between print statements (rather than new line)\n",
    "    n = 6\n",
    "    \n",
    "print(n)"
   ]
  },
  {
   "cell_type": "code",
   "execution_count": null,
   "metadata": {},
   "outputs": [],
   "source": []
  },
  {
   "cell_type": "markdown",
   "metadata": {
    "slideshow": {
     "slide_type": "slide"
    }
   },
   "source": [
    "![Slide 5 on For Loops](Slide5.PNG)"
   ]
  },
  {
   "cell_type": "code",
   "execution_count": 41,
   "metadata": {
    "slideshow": {
     "slide_type": "subslide"
    }
   },
   "outputs": [
    {
     "name": "stdout",
     "output_type": "stream",
     "text": [
      "HiHiHiHiHi\n"
     ]
    }
   ],
   "source": [
    "# Hint\n",
    "print( 5 * \"Hi\") "
   ]
  },
  {
   "cell_type": "code",
   "execution_count": 42,
   "metadata": {
    "slideshow": {
     "slide_type": "subslide"
    }
   },
   "outputs": [
    {
     "name": "stdout",
     "output_type": "stream",
     "text": [
      "1 *\n",
      "2 **\n",
      "3 ***\n",
      "4 ****\n",
      "5 *****\n"
     ]
    }
   ],
   "source": [
    "for i in range(1,6) :\n",
    "    print(i, \"*\" * i )"
   ]
  },
  {
   "cell_type": "markdown",
   "metadata": {
    "slideshow": {
     "slide_type": "slide"
    }
   },
   "source": [
    "# Using functions vs rewriting functions\n",
    "\n",
    "Why did we modify `Trajectory4` to define a new function `orbit1`, but we did NOT have to rewrite `orbit1` to produce this plot? Instead we \"used\" or \"called\" the function `orbit1`. Why?\n",
    "\n",
    "![Trajectories in a loop](elliptical_orbits.png)\n"
   ]
  },
  {
   "cell_type": "markdown",
   "metadata": {
    "slideshow": {
     "slide_type": "slide"
    }
   },
   "source": [
    "# Answer\n",
    "## \"Use\" or \"call\" the function if \n",
    "* the behavior you want to model can be achieved by changing the function input (e.g., `pos0`, `vel0`, `m`, `dt`) \n",
    "  \n",
    "## Define a new (modified) function if\n",
    "* the behavior you want to model is beyond what the original function can do"
   ]
  },
  {
   "cell_type": "markdown",
   "metadata": {
    "slideshow": {
     "slide_type": "slide"
    }
   },
   "source": [
    "## Variables inside vs outside the function\n",
    "\n",
    "### Global variables \n",
    "Variables that can be referenced anywhere in the program, within any cell in the Jupyter notebook.\n",
    "\n",
    "### Local variables\n",
    "Variables that are accessible only within the function. "
   ]
  },
  {
   "cell_type": "markdown",
   "metadata": {
    "slideshow": {
     "slide_type": "slide"
    }
   },
   "source": [
    "## Case 1: A global variable \n",
    "Great for constants that you want to use throughout your code."
   ]
  },
  {
   "cell_type": "code",
   "execution_count": 45,
   "metadata": {},
   "outputs": [
    {
     "name": "stdout",
     "output_type": "stream",
     "text": [
      "9.8\n",
      "9.8\n"
     ]
    },
    {
     "data": {
      "text/plain": [
       "5.1"
      ]
     },
     "execution_count": 45,
     "metadata": {},
     "output_type": "execute_result"
    }
   ],
   "source": [
    "#### FIX THIS EXAMPLE!\n",
    "g = 9.8  # acceleration from due to gravitational force\n",
    "print(g)\n",
    "def y(t,y0,vy0) :\n",
    "    \n",
    "    return y0 + vy0*t + 0.5 * (-g) * t**2  # kinematics for constant accelertion\n",
    "print(g)\n",
    "y(1,0, 10)"
   ]
  },
  {
   "cell_type": "code",
   "execution_count": 46,
   "metadata": {
    "slideshow": {
     "slide_type": "slide"
    }
   },
   "outputs": [
    {
     "name": "stdout",
     "output_type": "stream",
     "text": [
      "9.8\n"
     ]
    }
   ],
   "source": [
    "print(g)"
   ]
  },
  {
   "cell_type": "markdown",
   "metadata": {
    "slideshow": {
     "slide_type": "slide"
    }
   },
   "source": [
    "## Case 2: A local variable\n",
    "A variable that only exists within a function is local"
   ]
  },
  {
   "cell_type": "code",
   "execution_count": 51,
   "metadata": {
    "slideshow": {
     "slide_type": "subslide"
    }
   },
   "outputs": [
    {
     "name": "stdout",
     "output_type": "stream",
     "text": [
      "[2.0, -2.0]\n"
     ]
    },
    {
     "ename": "NameError",
     "evalue": "name 'x1' is not defined",
     "output_type": "error",
     "traceback": [
      "\u001b[0;31m---------------------------------------------------------------------------\u001b[0m",
      "\u001b[0;31mNameError\u001b[0m                                 Traceback (most recent call last)",
      "\u001b[0;32m<ipython-input-51-8f85071690d5>\u001b[0m in \u001b[0;36m<module>\u001b[0;34m\u001b[0m\n\u001b[1;32m      6\u001b[0m \u001b[0mprint\u001b[0m\u001b[0;34m(\u001b[0m \u001b[0msquareroot\u001b[0m\u001b[0;34m(\u001b[0m\u001b[0;36m4\u001b[0m\u001b[0;34m)\u001b[0m\u001b[0;34m)\u001b[0m\u001b[0;34m\u001b[0m\u001b[0;34m\u001b[0m\u001b[0m\n\u001b[1;32m      7\u001b[0m \u001b[0;34m\u001b[0m\u001b[0m\n\u001b[0;32m----> 8\u001b[0;31m \u001b[0mprint\u001b[0m\u001b[0;34m(\u001b[0m\u001b[0mx1\u001b[0m\u001b[0;34m)\u001b[0m\u001b[0;34m\u001b[0m\u001b[0;34m\u001b[0m\u001b[0m\n\u001b[0m",
      "\u001b[0;31mNameError\u001b[0m: name 'x1' is not defined"
     ]
    }
   ],
   "source": [
    "def squareroot(x1) :\n",
    "    b1 = x1**0.5\n",
    "    b2 =  -x1**0.5\n",
    "    return [b1, b2]\n",
    "\n",
    "print( squareroot(4))\n",
    "\n",
    "print(x1)"
   ]
  },
  {
   "cell_type": "markdown",
   "metadata": {
    "slideshow": {
     "slide_type": "slide"
    }
   },
   "source": [
    "## Case 3: A function input has the same name as a global variable\n",
    "The function input is a local variable that is kept separate from the global variable with the same name."
   ]
  },
  {
   "cell_type": "code",
   "execution_count": 55,
   "metadata": {
    "slideshow": {
     "slide_type": "fragment"
    }
   },
   "outputs": [
    {
     "name": "stdout",
     "output_type": "stream",
     "text": [
      "3\n",
      "[1.4142135623730951, -1.4142135623730951]\n",
      "3\n"
     ]
    }
   ],
   "source": [
    "x = 3 \n",
    "print(x)\n",
    "\n",
    "def squareroot(x1) :\n",
    "    b1 = x1**0.5\n",
    "    b2 =  -x1**0.5\n",
    "    x = 4\n",
    "    return [b1, b2]\n",
    "\n",
    "print( squareroot(2) )\n",
    "\n",
    "print(x)"
   ]
  },
  {
   "cell_type": "markdown",
   "metadata": {
    "slideshow": {
     "slide_type": "slide"
    }
   },
   "source": [
    "## Smartphone test\n",
    "![phyphox logo](phyphox.PNG)\n",
    "1. Download phyphox app to your phone...\n",
    "1. What sensors can you access?\n"
   ]
  },
  {
   "cell_type": "markdown",
   "metadata": {
    "slideshow": {
     "slide_type": "slide"
    }
   },
   "source": [
    "## Sensor challenges: accelerometer\n",
    "1. What is the largest acceleration your phone can measure? How does this compare to the gravitational acceleration g = 9.8 m/s^2?\n",
    "1. Compare the accelerometer reading while holding the phone in your hand vs setting the phone on a table.\n",
    "1. What does the accelerometer measure when the phone is being dropped or tossed gently in the air (e.g., it is in free fall)? "
   ]
  },
  {
   "cell_type": "markdown",
   "metadata": {
    "slideshow": {
     "slide_type": "slide"
    }
   },
   "source": [
    "## Sensor challenges: Barometer (pressure)\n",
    "1. What is the pressure change between the floor and ceiling (or as high as you can reach)? Can you measure this small pressure difference?\n",
    "1. How many pressure readings does your phone take each second?"
   ]
  },
  {
   "cell_type": "code",
   "execution_count": null,
   "metadata": {},
   "outputs": [],
   "source": []
  }
 ],
 "metadata": {
  "celltoolbar": "Slideshow",
  "kernelspec": {
   "display_name": "Python 3",
   "language": "python",
   "name": "python3"
  },
  "language_info": {
   "codemirror_mode": {
    "name": "ipython",
    "version": 3
   },
   "file_extension": ".py",
   "mimetype": "text/x-python",
   "name": "python",
   "nbconvert_exporter": "python",
   "pygments_lexer": "ipython3",
   "version": "3.6.9"
  }
 },
 "nbformat": 4,
 "nbformat_minor": 2
}
