{
 "cells": [
  {
   "cell_type": "markdown",
   "metadata": {},
   "source": [
    "# PHYS 225 Intro to Computational Physics\n",
    "## 10-09-2020 (Friday lecture)"
   ]
  },
  {
   "cell_type": "markdown",
   "metadata": {},
   "source": [
    "## Issue: Numpy changed random number generation in July 2019. \n",
    "Our old method used in PS8A is obsolete. It still works for backward compatability, but should not be used for new code."
   ]
  },
  {
   "cell_type": "code",
   "execution_count": 25,
   "metadata": {},
   "outputs": [],
   "source": [
    "import numpy as np\n",
    "import matplotlib.pyplot as plt"
   ]
  },
  {
   "cell_type": "code",
   "execution_count": 26,
   "metadata": {},
   "outputs": [
    {
     "name": "stdout",
     "output_type": "stream",
     "text": [
      "[3 2 1 6 6 3 6 5 5 3]\n"
     ]
    }
   ],
   "source": [
    "y = np.random.randint(1,7,10)\n",
    "print(y)"
   ]
  },
  {
   "cell_type": "code",
   "execution_count": null,
   "metadata": {},
   "outputs": [],
   "source": []
  },
  {
   "cell_type": "markdown",
   "metadata": {},
   "source": [
    "## New two-step process\n",
    "\n",
    "1. Select a random bit generator. Typically we will use the default random number generator through `rng = np.random.default_rng()`. The object `rng` can then be used to create differnt types of random numbers.\n",
    "1. Use a \"generator\" to create a particular distribution, such as Gaussian, using the random bits. To create a random value based on a Gaussian distribution, you would use `rng.normal(mu, sigma, shape)`.  To create random integers, use `rng.integers(low,high, shape)\n",
    "\n",
    "You can read more about Numpy's approach to random number generation in the [documentation](https://numpy.org/doc/stable/reference/random/index.html)."
   ]
  },
  {
   "cell_type": "code",
   "execution_count": 27,
   "metadata": {},
   "outputs": [],
   "source": [
    "# step 1: get the thing that generates random bits\n",
    "rng = np.random.default_rng()  # get a new instance of the random number generator"
   ]
  },
  {
   "cell_type": "code",
   "execution_count": 42,
   "metadata": {},
   "outputs": [
    {
     "name": "stdout",
     "output_type": "stream",
     "text": [
      "mean =  0.0023097751794577417\n",
      "std =  0.9993924019821363\n"
     ]
    }
   ],
   "source": [
    "# step 2: use the bits to make values from different distributions\n",
    "mean = 0\n",
    "std = 1\n",
    "size = 100000\n",
    "y = rng.normal(mean,std,size)\n",
    "#print(y)\n",
    "print(\"mean = \", y.mean() )\n",
    "print(\"std = \", y.std() )"
   ]
  },
  {
   "cell_type": "markdown",
   "metadata": {},
   "source": [
    "## Histograms and other visualizations"
   ]
  },
  {
   "cell_type": "markdown",
   "metadata": {},
   "source": [
    "Look up the documentation on histogram"
   ]
  },
  {
   "cell_type": "code",
   "execution_count": 46,
   "metadata": {},
   "outputs": [
    {
     "data": {
      "text/plain": [
       "Text(0, 0.5, 'Number of occurances')"
      ]
     },
     "execution_count": 46,
     "metadata": {},
     "output_type": "execute_result"
    },
    {
     "data": {
      "image/png": "[encoded data removed]",
      "text/plain": [
       "<Figure size 432x288 with 1 Axes>"
      ]
     },
     "metadata": {
      "needs_background": "light"
     },
     "output_type": "display_data"
    }
   ],
   "source": [
    "# histogram\n",
    "plt.hist(y, bins=50)\n",
    "plt.ylabel(\"Number of occurances\")"
   ]
  },
  {
   "cell_type": "markdown",
   "metadata": {},
   "source": [
    "Look up the documentation on box plot"
   ]
  },
  {
   "cell_type": "code",
   "execution_count": 44,
   "metadata": {},
   "outputs": [
    {
     "data": {
      "text/plain": [
       "{'whiskers': [<matplotlib.lines.Line2D at 0x7f8ed9196588>,\n",
       "  <matplotlib.lines.Line2D at 0x7f8ed9196828>],\n",
       " 'caps': [<matplotlib.lines.Line2D at 0x7f8ed9196b00>,\n",
       "  <matplotlib.lines.Line2D at 0x7f8ed9196dd8>],\n",
       " 'boxes': [<matplotlib.lines.Line2D at 0x7f8ed9196320>],\n",
       " 'medians': [<matplotlib.lines.Line2D at 0x7f8ed91a10f0>],\n",
       " 'fliers': [<matplotlib.lines.Line2D at 0x7f8ed91a13c8>],\n",
       " 'means': []}"
      ]
     },
     "execution_count": 44,
     "metadata": {},
     "output_type": "execute_result"
    },
    {
     "data": {
      "image/png": "[encoded data removed]",
      "text/plain": [
       "<Figure size 432x288 with 1 Axes>"
      ]
     },
     "metadata": {
      "needs_background": "light"
     },
     "output_type": "display_data"
    }
   ],
   "source": [
    "# boxplot\n",
    "plt.boxplot(y)"
   ]
  },
  {
   "cell_type": "markdown",
   "metadata": {},
   "source": [
    "Look up the documentation on violin plot"
   ]
  },
  {
   "cell_type": "code",
   "execution_count": 45,
   "metadata": {},
   "outputs": [
    {
     "data": {
      "text/plain": [
       "{'bodies': [<matplotlib.collections.PolyCollection at 0x7f8ed91665c0>],\n",
       " 'cmaxes': <matplotlib.collections.LineCollection at 0x7f8ed9166518>,\n",
       " 'cmins': <matplotlib.collections.LineCollection at 0x7f8ed9166a90>,\n",
       " 'cbars': <matplotlib.collections.LineCollection at 0x7f8ed9166d68>}"
      ]
     },
     "execution_count": 45,
     "metadata": {},
     "output_type": "execute_result"
    },
    {
     "data": {
      "image/png": "[encoded data removed]",
      "text/plain": [
       "<Figure size 432x288 with 1 Axes>"
      ]
     },
     "metadata": {
      "needs_background": "light"
     },
     "output_type": "display_data"
    }
   ],
   "source": [
    "# violin plot\n",
    "plt.violinplot(y)"
   ]
  },
  {
   "cell_type": "markdown",
   "metadata": {},
   "source": [
    "## Phase 2 Project Proposal\n",
    "* Review Guidelines on MyCourses\n",
    "* Split into breakout rooms with your lab partner\n",
    "* Start a shared Google Doc for Phase 2\n",
    "    * If you already have Phase 1 feedback, start the whole thing\n",
    "    * If you don't have Phase 1 feedback, start on the \"expecations for collaboration\" section"
   ]
  },
  {
   "cell_type": "code",
   "execution_count": null,
   "metadata": {},
   "outputs": [],
   "source": []
  }
 ],
 "metadata": {
  "kernelspec": {
   "display_name": "Python 3",
   "language": "python",
   "name": "python3"
  },
  "language_info": {
   "codemirror_mode": {
    "name": "ipython",
    "version": 3
   },
   "file_extension": ".py",
   "mimetype": "text/x-python",
   "name": "python",
   "nbconvert_exporter": "python",
   "pygments_lexer": "ipython3",
   "version": "3.6.9"
  }
 },
 "nbformat": 4,
 "nbformat_minor": 4
}
